{
 "cells": [
  {
   "cell_type": "code",
   "execution_count": 1,
   "metadata": {
    "collapsed": true
   },
   "outputs": [],
   "source": [
    "import numpy as np\n",
    "import random\n",
    "import math\n",
    "\n",
    "# Importing QISKit\n",
    "from qiskit import QuantumCircuit, QuantumProgram\n",
    "import Qconfig\n",
    "\n",
    "# Import basic plotting tools\n",
    "from qiskit.tools.visualization import plot_histogram\n",
    "\n",
    "# Quantum program setup \n",
    "Q_program = QuantumProgram()\n",
    "Q_program.set_api(Qconfig.APItoken, Qconfig.config['url']) # set the APIToken and API url"
   ]
  },
  {
   "cell_type": "code",
   "execution_count": 2,
   "metadata": {},
   "outputs": [
    {
     "data": {
      "text/plain": [
       "<qiskit.extensions.standard.cx.CnotGate at 0x217dde8ed30>"
      ]
     },
     "execution_count": 2,
     "metadata": {},
     "output_type": "execute_result"
    }
   ],
   "source": [
    "# backend = 'ibmqx2'\n",
    "shots = 1    # the number of shots\n",
    "backend = 'local_qasm_simulator'\n",
    "\n",
    "# Creating registers\n",
    "qr = Q_program.create_quantum_register(\"qr\", 2)\n",
    "cr = Q_program.create_classical_register(\"cr\", 2)\n",
    "\n",
    "# Creating a shared singlet state\n",
    "singlet = Q_program.create_circuit(\"singlet\", [qr], [cr])\n",
    "singlet.x(qr[0])\n",
    "singlet.x(qr[1])\n",
    "singlet.h(qr[0])\n",
    "singlet.cx(qr[0],qr[1])"
   ]
  },
  {
   "cell_type": "code",
   "execution_count": 3,
   "metadata": {
    "collapsed": true
   },
   "outputs": [],
   "source": [
    "# Alice's and Bob's measurement choice strings \n",
    "aliceMeasurementsChoices = []\n",
    "bobMeasurementsChoices = []\n",
    "\n",
    "measuremensChoicesLength = 10 # length of the strings\n",
    "\n",
    "# Random strings generation\n",
    "for i in range(measuremensChoicesLength):\n",
    "    aliceMeasurementsChoices.append(random.randint(0, 2))\n",
    "    bobMeasurementsChoices.append(random.randint(0, 2))\n",
    "    \n",
    "#print(aliceMeasurementsChoices)\n",
    "#print(bobMeasurementsChoices)"
   ]
  },
  {
   "cell_type": "code",
   "execution_count": 4,
   "metadata": {},
   "outputs": [
    {
     "data": {
      "text/plain": [
       "<qiskit._measure.Measure at 0x217ddee87b8>"
      ]
     },
     "execution_count": 4,
     "metadata": {},
     "output_type": "execute_result"
    }
   ],
   "source": [
    "## Alice's measurement circuits\n",
    "\n",
    "# measurement of spin projection onto (1;0;0) vector; standard X-measurement\n",
    "measureA1 = Q_program.create_circuit('measureA1', [qr], [cr])\n",
    "measureA1.h(qr[0])\n",
    "measureA1.measure(qr[0],cr[0])\n",
    "\n",
    "# measurement of spin projection onto (1/sqt(2);0;1/(sqrt(2)) vector\n",
    "measureA2 = Q_program.create_circuit('measureA2', [qr], [cr])\n",
    "measureA2.s(qr[0])\n",
    "measureA2.h(qr[0])\n",
    "measureA2.t(qr[0])\n",
    "measureA2.h(qr[0])\n",
    "measureA2.measure(qr[0],cr[0])\n",
    "\n",
    "# measurement of spin projection onto (0;1;0) vector; standard Z-measurement\n",
    "measureA3 = Q_program.create_circuit('measureA3', [qr], [cr])\n",
    "measureA3.measure(qr[0],cr[0])\n",
    "\n",
    "## Bob's measurement circuits\n",
    "\n",
    "# measurement of spin projection onto (1/sqt(2);0;1/(sqrt(2)) vector\n",
    "measureB1 = Q_program.create_circuit('measureB1', [qr], [cr])\n",
    "measureB1.s(qr[1])\n",
    "measureB1.h(qr[1])\n",
    "measureB1.t(qr[1])\n",
    "measureB1.h(qr[1])\n",
    "measureB1.measure(qr[1],cr[1])\n",
    "\n",
    "# measurement of spin projection onto (0;0;1) vector; \n",
    "measureB2 = Q_program.create_circuit('measureB2', [qr], [cr])\n",
    "measureB2.measure(qr[1],cr[1])\n",
    "\n",
    "# measurement of spin projection onto (-1/sqt(2);0;1/(sqrt(2)) vector\n",
    "measureB3 = Q_program.create_circuit('measureB3', [qr], [cr])\n",
    "measureB3.s(qr[1])\n",
    "measureB3.h(qr[1])\n",
    "measureB3.tdg(qr[1])\n",
    "measureB3.h(qr[1])\n",
    "measureB3.measure(qr[1],cr[1])"
   ]
  },
  {
   "cell_type": "code",
   "execution_count": 48,
   "metadata": {},
   "outputs": [
    {
     "name": "stdout",
     "output_type": "stream",
     "text": [
      "running on backend: local_qasm_simulator\n",
      "{'01': 437, '10': 428, '00': 79, '11': 56}\n"
     ]
    }
   ],
   "source": [
    "Q_program.add_circuit('gavno3', singlet + measureA1 + measureB1) # Measurement of Alice's and Bob's qubits\n",
    "\n",
    "result3 = Q_program.execute('gavno3', backend=backend, shots=1000, max_credits=3, wait=10, timeout=240, silent=False)\n",
    "\n",
    "print(result3.get_counts('gavno3'))"
   ]
  },
  {
   "cell_type": "code",
   "execution_count": 47,
   "metadata": {
    "collapsed": true
   },
   "outputs": [],
   "source": [
    "## Arrays of Alice's and Bob's measurements\n",
    "aliceMeasurements = [measureA1, measureA2, measureA3]\n",
    "bobMeasurements = [measureB1, measureB2, measureB3]"
   ]
  },
  {
   "cell_type": "code",
   "execution_count": 65,
   "metadata": {
    "collapsed": true
   },
   "outputs": [],
   "source": [
    "circuits = [] # array of prepared circuits\n",
    "\n",
    "for k in range(measuremensChoicesLength):\n",
    "    circuitName = 'A' + str(aliceMeasurementsChoices[k]+1) + '_B' + str(bobMeasurementsChoices[k]+1)\n",
    "    Q_program.add_circuit(circuitName, singlet + aliceMeasurements[aliceMeasurementsChoices[k]] + bobMeasurements[bobMeasurementsChoices[k]]) # Measurement of Alice's and Bob's qubits\n",
    "    circuits.append(circuitName) # add measurement of singlet to circuits array"
   ]
  },
  {
   "cell_type": "code",
   "execution_count": 70,
   "metadata": {},
   "outputs": [
    {
     "name": "stdout",
     "output_type": "stream",
     "text": [
      "running on backend: local_qasm_simulator\n"
     ]
    }
   ],
   "source": [
    "result = Q_program.execute(circuits, backend=backend, shots=300, max_credits=3, wait=10, timeout=240, silent=False)\n",
    "\n",
    "#Q_program.get_qasms(circuits)"
   ]
  },
  {
   "cell_type": "code",
   "execution_count": 71,
   "metadata": {},
   "outputs": [
    {
     "name": "stdout",
     "output_type": "stream",
     "text": [
      "A2_B1: {'01': 133, '10': 167}\n",
      "A2_B1: {'01': 133, '10': 167}\n",
      "A2_B1: {'01': 133, '10': 167}\n",
      "A2_B1: {'01': 133, '10': 167}\n",
      "A2_B1: {'01': 133, '10': 167}\n",
      "A2_B1: {'01': 133, '10': 167}\n",
      "A2_B1: {'01': 133, '10': 167}\n",
      "A2_B1: {'01': 133, '10': 167}\n",
      "A2_B1: {'01': 133, '10': 167}\n",
      "A2_B1: {'01': 133, '10': 167}\n"
     ]
    }
   ],
   "source": [
    "# print some results of measurements\n",
    "\n",
    "for k in range(measuremensChoicesLength):\n",
    "    print(str(circuits[k]) + ': ' + str(result.get_counts(circuits[k])))"
   ]
  },
  {
   "cell_type": "code",
   "execution_count": 22,
   "metadata": {},
   "outputs": [
    {
     "data": {
      "text/plain": [
       "[1, 0, 0, 1, 0, 0, 2, 1, 2, 1, 1, 0, 2, 0, 1, 2, 0, 2, 1]"
      ]
     },
     "execution_count": 22,
     "metadata": {},
     "output_type": "execute_result"
    }
   ],
   "source": [
    "# Basis choises check stage\n",
    "\n",
    "sameBasisMeasurements = []\n",
    "\n",
    "for k in range(measuremensChoicesLength):\n",
    "    if aliceMeasurementsChoices[k] == bobMeasurementsChoices[k]:\n",
    "        sameBasisMeasurements.append(aliceMeasurementsChoices[k])\n",
    "\n",
    "sameBasisMeasurements"
   ]
  },
  {
   "cell_type": "code",
   "execution_count": null,
   "metadata": {
    "collapsed": true
   },
   "outputs": [],
   "source": []
  },
  {
   "cell_type": "code",
   "execution_count": null,
   "metadata": {
    "collapsed": true
   },
   "outputs": [],
   "source": []
  },
  {
   "cell_type": "code",
   "execution_count": null,
   "metadata": {
    "collapsed": true
   },
   "outputs": [],
   "source": []
  },
  {
   "cell_type": "code",
   "execution_count": null,
   "metadata": {
    "collapsed": true
   },
   "outputs": [],
   "source": []
  },
  {
   "cell_type": "code",
   "execution_count": null,
   "metadata": {
    "collapsed": true
   },
   "outputs": [],
   "source": []
  },
  {
   "cell_type": "code",
   "execution_count": null,
   "metadata": {
    "collapsed": true
   },
   "outputs": [],
   "source": []
  },
  {
   "cell_type": "code",
   "execution_count": null,
   "metadata": {
    "collapsed": true
   },
   "outputs": [],
   "source": []
  },
  {
   "cell_type": "code",
   "execution_count": null,
   "metadata": {
    "collapsed": true
   },
   "outputs": [],
   "source": []
  },
  {
   "cell_type": "code",
   "execution_count": null,
   "metadata": {
    "collapsed": true
   },
   "outputs": [],
   "source": []
  },
  {
   "cell_type": "code",
   "execution_count": null,
   "metadata": {
    "collapsed": true
   },
   "outputs": [],
   "source": []
  },
  {
   "cell_type": "code",
   "execution_count": null,
   "metadata": {
    "collapsed": true
   },
   "outputs": [],
   "source": []
  },
  {
   "cell_type": "code",
   "execution_count": null,
   "metadata": {
    "collapsed": true
   },
   "outputs": [],
   "source": []
  },
  {
   "cell_type": "code",
   "execution_count": null,
   "metadata": {
    "collapsed": true
   },
   "outputs": [],
   "source": []
  },
  {
   "cell_type": "code",
   "execution_count": 26,
   "metadata": {},
   "outputs": [
    {
     "name": "stdout",
     "output_type": "stream",
     "text": [
      "running on backend: local_qasm_simulator\n"
     ]
    },
    {
     "data": {
      "image/png": "[encoded data removed]",
      "text/plain": [
       "<matplotlib.figure.Figure at 0x1ea0112d2b0>"
      ]
     },
     "metadata": {},
     "output_type": "display_data"
    }
   ],
   "source": [
    "### TEST FIELD ###\n",
    "\n",
    "state = Q_program.create_circuit(\"state\", [qr], [cr])\n",
    "state.x(qr[0])\n",
    "state.x(qr[1])\n",
    "state.h(qr[0])\n",
    "state.cx(qr[0],qr[1])\n",
    "state.barrier()\n",
    "\n",
    "state.h(qr[0])\n",
    "#state.u3(math.pi, math.pi/4., 3.*math.pi/4., qr[0])\n",
    "#state.u3(math.pi, math.pi/2., math.pi/2., qr[0])\n",
    "\n",
    "state.measure(qr[0],cr[0])\n",
    "\n",
    "#state.u3(math.pi, math.pi/4., 3.*math.pi/4., qr[1])\n",
    "state.u3(math.pi, math.pi/2., math.pi/2., qr[1])\n",
    "#state.u3(math.pi, 3.*math.pi/4., math.pi/4., qr[1])\n",
    "\n",
    "state.measure(qr[1],cr[1])\n",
    "\n",
    "cir = ['state']\n",
    "\n",
    "Q_program.get_qasms(cir)\n",
    "\n",
    "res = Q_program.execute(cir, backend=backend, shots=1, max_credits=3, wait=10, timeout=240, silent=False)\n",
    "\n",
    "plot_histogram(res.get_counts(cir[0]))"
   ]
  },
  {
   "cell_type": "code",
   "execution_count": null,
   "metadata": {
    "collapsed": true
   },
   "outputs": [],
   "source": [
    "obs = {\"00\": 1, \"11\": 1, \"01\": -1, \"10\": -1}\n",
    "\n",
    "for k in range(measuremensChoicesLength):\n",
    "    print(str(circuits[k]) + \": \" + str(result.average_data(circuits[k], obs)))"
   ]
  },
  {
   "cell_type": "code",
   "execution_count": null,
   "metadata": {
    "collapsed": true
   },
   "outputs": [],
   "source": [
    "## Alice's measurement circuits\n",
    "\n",
    "# measurement of spin projection onto (1;0;0) vector; standard X-measurement\n",
    "measureA1 = Q_program.create_circuit('measureA1', [qr], [cr])\n",
    "measureA1.u3(math.pi, 0, math.pi, qr[0])\n",
    "measureA1.measure(qr[0],cr[0])\n",
    "\n",
    "# measurement of spin projection onto (1/sqt(2);1/(sqrt(2);0) vector\n",
    "measureA2 = Q_program.create_circuit('measureA2', [qr], [cr])\n",
    "measureA2.u3(math.pi, math.pi/4., 3.*math.pi/4., qr[0])\n",
    "measureA2.measure(qr[0],cr[0])\n",
    "\n",
    "# measurement of spin projection onto (0;1;0) vector; standard Y-measurement\n",
    "measureA3 = Q_program.create_circuit('measureA3', [qr], [cr])\n",
    "measureA3.u3(math.pi, math.pi/2., math.pi/2., qr[0])\n",
    "measureA3.measure(qr[0],cr[0])\n",
    "\n",
    "## Bob's measurement circuits\n",
    "\n",
    "# measurement of spin projection onto (1/sqt(2);1/(sqrt(2);0) vector\n",
    "measureB1 = Q_program.create_circuit('measureB1', [qr], [cr])\n",
    "measureB1.u3(math.pi, math.pi/4., 3.*math.pi/4., qr[1])\n",
    "measureB1.measure(qr[1],cr[1])\n",
    "\n",
    "# measurement of spin projection onto (0;1;0) vector\n",
    "measureB2 = Q_program.create_circuit('measureB2', [qr], [cr])\n",
    "measureB2.u3(math.pi, math.pi/2., math.pi/2., qr[1])\n",
    "measureB2.measure(qr[1],cr[1])\n",
    "\n",
    "# measurement of spin projection onto (-1/sqt(2);1/(sqrt(2);0) vector\n",
    "measureB3 = Q_program.create_circuit('measureB3', [qr], [cr])\n",
    "measureB3.u3(math.pi, 3.*math.pi/4., math.pi/4., qr[1])\n",
    "measureB3.measure(qr[1],cr[1])\n",
    "\n",
    "## Arrays of Alice's and Bob's measurements\n",
    "aliceMeasurements = [measureA1, measureA2, measureA3]\n",
    "bobMeasurements = [measureB1, measureB2, measureB3]"
   ]
  },
  {
   "cell_type": "code",
   "execution_count": 46,
   "metadata": {},
   "outputs": [
    {
     "name": "stdout",
     "output_type": "stream",
     "text": [
      "running on backend: local_qasm_simulator\n",
      "{'00': 29, '01': 197, '10': 239, '11': 35}\n",
      "running on backend: local_qasm_simulator\n",
      "{'10': 133, '11': 128, '01': 108, '00': 131}\n",
      "running on backend: local_qasm_simulator\n",
      "{'10': 235, '01': 265}\n",
      "running on backend: local_qasm_simulator\n",
      "{'10': 235, '01': 265}\n",
      "running on backend: local_qasm_simulator\n",
      "{'01': 205, '10': 215, '00': 37, '11': 43}\n"
     ]
    }
   ],
   "source": [
    "##### TEST #####\n",
    "\n",
    "gavno11 = Q_program.create_circuit('gavno11', [qr], [cr])\n",
    "gavno11.x(qr[0])\n",
    "gavno11.x(qr[1])\n",
    "gavno11.h(qr[0])\n",
    "gavno11.cx(qr[0],qr[1])\n",
    "gavno11.h(qr[0])\n",
    "gavno11.s(qr[1])\n",
    "gavno11.h(qr[1])\n",
    "gavno11.t(qr[1])\n",
    "gavno11.h(qr[1])\n",
    "gavno11.measure(qr[0],cr[0])\n",
    "gavno11.measure(qr[1],cr[1])\n",
    "\n",
    "gavno12 = Q_program.create_circuit('gavno12', [qr], [cr])\n",
    "gavno12.x(qr[0])\n",
    "gavno12.x(qr[1])\n",
    "gavno12.h(qr[0])\n",
    "gavno12.cx(qr[0],qr[1])\n",
    "gavno12.h(qr[0])\n",
    "gavno12.measure(qr[0],cr[0])\n",
    "gavno12.measure(qr[1],cr[1])\n",
    "\n",
    "gavno21 = Q_program.create_circuit('gavno21', [qr], [cr])\n",
    "gavno21.x(qr[0])\n",
    "gavno21.x(qr[1])\n",
    "gavno21.h(qr[0])\n",
    "gavno21.cx(qr[0],qr[1])\n",
    "gavno21.s(qr[0])\n",
    "gavno21.h(qr[0])\n",
    "gavno21.t(qr[0])\n",
    "gavno21.h(qr[0])\n",
    "gavno21.s(qr[1])\n",
    "gavno21.h(qr[1])\n",
    "gavno21.t(qr[1])\n",
    "gavno21.h(qr[1])\n",
    "gavno21.measure(qr[0],cr[0])\n",
    "gavno21.measure(qr[1],cr[1])\n",
    "\n",
    "gavno32 = Q_program.create_circuit('gavno32', [qr], [cr])\n",
    "gavno32.x(qr[0])\n",
    "gavno32.x(qr[1])\n",
    "gavno32.h(qr[0])\n",
    "gavno32.cx(qr[0],qr[1])\n",
    "gavno32.h(qr[0])\n",
    "gavno32.h(qr[1])\n",
    "gavno32.measure(qr[0],cr[0])\n",
    "gavno32.measure(qr[1],cr[1])\n",
    "\n",
    "Q_program.add_circuit('gavno0', singlet + measureB1 + measureA1) # Measurement of Alice's and Bob's qubits\n",
    "\n",
    "result11 = Q_program.execute('gavno11', backend=backend, shots=500, max_credits=3, wait=10, timeout=240, silent=False)\n",
    "print(result11.get_counts('gavno11'))\n",
    "\n",
    "result12 = Q_program.execute('gavno12', backend=backend, shots=500, max_credits=3, wait=10, timeout=240, silent=False)\n",
    "print(result12.get_counts('gavno12'))\n",
    "\n",
    "result21 = Q_program.execute('gavno21', backend=backend, shots=500, max_credits=3, wait=10, timeout=240, silent=False)\n",
    "print(result21.get_counts('gavno21'))\n",
    "\n",
    "result32 = Q_program.execute('gavno32', backend=backend, shots=500, max_credits=3, wait=10, timeout=240, silent=False)\n",
    "print(result32.get_counts('gavno32'))\n",
    "\n",
    "result0 = Q_program.execute('gavno0', backend=backend, shots=500, max_credits=3, wait=10, timeout=240, silent=False)\n",
    "print(result0.get_counts('gavno0'))"
   ]
  }
 ],
 "metadata": {
  "kernelspec": {
   "display_name": "Python 3",
   "language": "python",
   "name": "python3"
  },
  "language_info": {
   "codemirror_mode": {
    "name": "ipython",
    "version": 3
   },
   "file_extension": ".py",
   "mimetype": "text/x-python",
   "name": "python",
   "nbconvert_exporter": "python",
   "pygments_lexer": "ipython3",
   "version": "3.6.3"
  }
 },
 "nbformat": 4,
 "nbformat_minor": 2
}

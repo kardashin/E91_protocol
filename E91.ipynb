{
 "cells": [
  {
   "cell_type": "code",
   "execution_count": 1,
   "metadata": {},
   "outputs": [],
   "source": [
    "import sys\n",
    "import numpy as np\n",
    "import random\n",
    "import math\n",
    "import pandas as pd\n",
    "import pprint\n",
    "\n",
    "# Importing QISKit\n",
    "from qiskit import QuantumCircuit, QuantumProgram\n",
    "import Qconfig\n",
    "\n",
    "# Import plotting tools\n",
    "from qiskit.tools.visualization import plot_histogram\n",
    "\n",
    "# Quantum program setup\n",
    "Q_program = QuantumProgram()\n",
    "Q_program.set_api(Qconfig.APItoken, Qconfig.config['url']) # set the APIToken and API url"
   ]
  },
  {
   "cell_type": "code",
   "execution_count": 2,
   "metadata": {},
   "outputs": [],
   "source": [
    "## Input parameters\n",
    "\n",
    "measuremensChoicesLength = 200 # length of the strings that cointain measurement choices\n",
    "evePresence = False # Presence of an eavesdropper in the channel\n",
    "evePresencePercentage = 0.3 # Percentage of Eve's interference"
   ]
  },
  {
   "cell_type": "code",
   "execution_count": 3,
   "metadata": {},
   "outputs": [],
   "source": [
    "## Creating registers\n",
    "\n",
    "qr = Q_program.create_quantum_register(\"qr\", 2)\n",
    "cr = Q_program.create_classical_register(\"cr\", 2)"
   ]
  },
  {
   "cell_type": "code",
   "execution_count": 4,
   "metadata": {},
   "outputs": [
    {
     "name": "stdout",
     "output_type": "stream",
     "text": [
      "{'available': True, 'busy': False, 'pending_jobs': 0, 'backend': 'ibmqx2'}\n",
      "{'available': True, 'busy': False, 'pending_jobs': 0, 'backend': 'ibmqx4'}\n"
     ]
    }
   ],
   "source": [
    "## Backend status\n",
    "\n",
    "print(Q_program.get_backend_status('ibmqx2'))\n",
    "print(Q_program.get_backend_status('ibmqx4'))"
   ]
  },
  {
   "cell_type": "code",
   "execution_count": 5,
   "metadata": {},
   "outputs": [],
   "source": [
    "## Set the backend and coupling map\n",
    "\n",
    "#backend = 'local_qasm_simulator' # simulator\n",
    "#backend = 'ibmqx2' # real device\n",
    "backend = 'ibmqx4' # real device\n",
    "\n",
    "#ibmqx4_coupling = Q_program.get_backend_configuration('ibmqx4')['coupling_map']\n",
    "#coupling_map=ibmqx4_coupling,"
   ]
  },
  {
   "cell_type": "code",
   "execution_count": 6,
   "metadata": {},
   "outputs": [
    {
     "data": {
      "text/plain": [
       "<qiskit.extensions.standard.cx.CnotGate at 0x264ae0b5dd8>"
      ]
     },
     "execution_count": 6,
     "metadata": {},
     "output_type": "execute_result"
    }
   ],
   "source": [
    "## Creating a shared entangled state\n",
    "\n",
    "entangledState = Q_program.create_circuit('entangledState', [qr], [cr])\n",
    "\n",
    "# bell_11 (singlet) state for the ibmqx4 backend\n",
    "#entangledState.h(qr[1])\n",
    "#entangledState.cx(qr[1],qr[0])\n",
    "#entangledState.x(qr[0])\n",
    "#entangledState.z(qr[0])\n",
    "\n",
    "# bell_11 (singlet) state for the ibmqx2 backend\n",
    "#entangledState.x(qr[0])\n",
    "#entangledState.x(qr[1])\n",
    "#entangledState.h(qr[0])\n",
    "#entangledState.cx(qr[0],qr[1])\n",
    "\n",
    "# bell_00 state for the ibmqx4 backend\n",
    "entangledState.h(qr[1])\n",
    "entangledState.cx(qr[1],qr[0])"
   ]
  },
  {
   "cell_type": "code",
   "execution_count": 7,
   "metadata": {},
   "outputs": [],
   "source": [
    "## Alice's and Bob's measurement choice strings\n",
    "\n",
    "aliceMeasurementsChoices = []\n",
    "bobMeasurementsChoices = []\n",
    "\n",
    "# random strings generation\n",
    "for i in range(measuremensChoicesLength):\n",
    "    aliceMeasurementsChoices.append(random.randint(0, 2))\n",
    "    bobMeasurementsChoices.append(random.randint(0, 2))"
   ]
  },
  {
   "cell_type": "code",
   "execution_count": 8,
   "metadata": {},
   "outputs": [],
   "source": [
    "## Eve's measurement choice array\n",
    "\n",
    "# The first and the second element of each row represent the measurement of Alice's and Bob's qubit respectively \n",
    "# Default values of the array are 0 (applying identity gate)\n",
    "eveMeasurementsChoices = [[0 for k in range(2)] for j in range(measuremensChoicesLength)]\n",
    "\n",
    "if evePresence == True:\n",
    "    for j in range(measuremensChoicesLength):\n",
    "        if random.uniform(0, 1) <= evePresencePercentage: # in some percent of cases Eve makes her measurement of A's and/or B's qubits\n",
    "            for k in range(2):\n",
    "                eveMeasurementsChoices[j][k] = random.randint(0, 7) # random measuremets of A's and B's qubits"
   ]
  },
  {
   "cell_type": "code",
   "execution_count": 9,
   "metadata": {},
   "outputs": [],
   "source": [
    "### Creating measurement circuits\n",
    "\n",
    "## Alice's measurement circuits\n",
    "\n",
    "# measurement of spin projection onto (1; 0; 0) vector; standard X-measurement\n",
    "measureA1 = Q_program.create_circuit('measureA1', [qr], [cr])\n",
    "measureA1.h(qr[0])\n",
    "measureA1.measure(qr[0],cr[0])\n",
    "\n",
    "# measurement of spin projection onto (1/sqt(2); 0; 1/(sqrt(2)) vector\n",
    "# projection onto (Z+X)/sqrt(2) eigenstates\n",
    "measureA2 = Q_program.create_circuit('measureA2', [qr], [cr])\n",
    "measureA2.s(qr[0])\n",
    "measureA2.h(qr[0])\n",
    "measureA2.t(qr[0])\n",
    "measureA2.h(qr[0])\n",
    "measureA2.measure(qr[0],cr[0])\n",
    "\n",
    "# measurement of spin projection onto (0; 0; 1) vector; standard Z-measurement\n",
    "measureA3 = Q_program.create_circuit('measureA3', [qr], [cr])\n",
    "measureA3.measure(qr[0],cr[0])\n",
    "\n",
    "## Bob's measurement circuits\n",
    "\n",
    "# measurement of spin projection onto (1/sqt(2); 0; 1/(sqrt(2)) vector\n",
    "# projection onto (Z+X)/sqrt(2) eigenstates\n",
    "measureB1 = Q_program.create_circuit('measureB1', [qr], [cr])\n",
    "measureB1.s(qr[1])\n",
    "measureB1.h(qr[1])\n",
    "measureB1.t(qr[1])\n",
    "measureB1.h(qr[1])\n",
    "measureB1.measure(qr[1],cr[1])\n",
    "\n",
    "# measurement of spin projection onto (0; 0; 1) vector; standard Z-measurement\n",
    "measureB2 = Q_program.create_circuit('measureB2', [qr], [cr])\n",
    "measureB2.measure(qr[1],cr[1])\n",
    "\n",
    "# measurement of spin projection onto (-1/sqt(2); 0; 1/(sqrt(2)) vector\n",
    "# projection onto (Z-X)/sqrt(2) eigenstates\n",
    "measureB3 = Q_program.create_circuit('measureB3', [qr], [cr])\n",
    "measureB3.s(qr[1])\n",
    "measureB3.h(qr[1])\n",
    "measureB3.tdg(qr[1])\n",
    "measureB3.h(qr[1])\n",
    "measureB3.measure(qr[1],cr[1])\n",
    "\n",
    "# 1-st qbit identity measurement\n",
    "ident0 = Q_program.create_circuit('ident0', [qr], [cr])\n",
    "ident0.iden(qr[0])\n",
    "\n",
    "# 2-nd qbit identity measurement\n",
    "ident1 = Q_program.create_circuit('ident1', [qr], [cr])\n",
    "ident1.iden(qr[1])\n",
    "\n",
    "## Arrays of Alice's, Bob's and Eve's measurement circuits\n",
    "\n",
    "aliceMeasurements = [measureA1, measureA2, measureA3]\n",
    "bobMeasurements = [measureB1, measureB2, measureB3]\n",
    "eveMeasurements = [ident0, ident1, measureA1, measureA2, measureA3, measureB1, measureB2, measureB3]"
   ]
  },
  {
   "cell_type": "code",
   "execution_count": 10,
   "metadata": {},
   "outputs": [],
   "source": [
    "circuits = [] # prepared circuits\n",
    "\n",
    "for k in range(measuremensChoicesLength):\n",
    "    # create the name of the k-th circuit depending on Alice's, Bob's and Eve's choices of measurement\n",
    "    circuitName = str(k) + '-A' + str(aliceMeasurementsChoices[k]+1) + 'B' + str(bobMeasurementsChoices[k]+1) + 'E' + str(eveMeasurementsChoices[k][0]) + str(eveMeasurementsChoices[k][1])\n",
    "    # create the joint measurement circuit\n",
    "    Q_program.add_circuit(circuitName, entangledState + eveMeasurements[eveMeasurementsChoices[k][0]] + eveMeasurements[eveMeasurementsChoices[k][1]] + aliceMeasurements[aliceMeasurementsChoices[k]] + bobMeasurements[bobMeasurementsChoices[k]]) \n",
    "    circuits.append(circuitName) # add measurement of singlet to circuits array"
   ]
  },
  {
   "cell_type": "code",
   "execution_count": 11,
   "metadata": {},
   "outputs": [
    {
     "name": "stdout",
     "output_type": "stream",
     "text": [
      "running on backend: ibmqx4\n",
      "status = RUNNING (10 seconds)\n",
      "status = RUNNING (20 seconds)\n",
      "status = RUNNING (30 seconds)\n",
      "status = RUNNING (40 seconds)\n",
      "status = RUNNING (50 seconds)\n",
      "status = RUNNING (60 seconds)\n",
      "status = RUNNING (70 seconds)\n"
     ]
    }
   ],
   "source": [
    "## Execute circuits\n",
    "\n",
    "#simulate = Q_program.execute(circuits, backend='local_qasm_simulator', shots=1, max_credits=12, wait=60, timeout=0, silent=False)\n",
    "result = Q_program.execute(circuits, backend=backend, shots=1, max_credits=12, wait=10, timeout=240, silent=False)"
   ]
  },
  {
   "cell_type": "code",
   "execution_count": 22,
   "metadata": {},
   "outputs": [],
   "source": [
    "## Writing measurement results\n",
    "\n",
    "aliceResults = [] # Alice's results\n",
    "bobResults = [] # Bob's results\n",
    "\n",
    "for circ in circuits:\n",
    "    res = result.get_counts(circ) # type = dictionary; in this case it has one key (state) and one value\n",
    "    if '00000' in res: # check if the key is 01 (if the measurement results are -1,-1)\n",
    "        aliceResults.append(-1) # Alice got the result -1 \n",
    "        bobResults.append(-1) # Bob got the result -1 \n",
    "    if '00001' in res: # # check if the key is 01 (if the measurement results are -1,1)\n",
    "        aliceResults.append(-1) # Alice got the result -1 \n",
    "        bobResults.append(1) # Bob got the result +1 \n",
    "    if '00010' in res: # check if the key is 01 (if the measurement results are 1,-1) \n",
    "        aliceResults.append(1)\n",
    "        bobResults.append(-1)\n",
    "    if '00011' in res: # check if the key is 01 (if the measurement results are 1,1)\n",
    "        aliceResults.append(1)\n",
    "        bobResults.append(1)"
   ]
  },
  {
   "cell_type": "code",
   "execution_count": 23,
   "metadata": {},
   "outputs": [],
   "source": [
    "## Basis choises check stage\n",
    "#\n",
    "# Alice and Bob reveal their strings with basis choices\n",
    "#\n",
    "# If in the k-th measurement A and B used the same basis,\n",
    "# then they write the result of the k-th measurement as the bit of the sifted key \n",
    "\n",
    "aliceSiftedKey = [] # Alice's siffted key string\n",
    "bobSiftedKey = [] # Bob's siffted key string\n",
    "\n",
    "siftedKeyLength = 0 # length of the sifted key\n",
    "\n",
    "# the sifted key consists of the results obtained by projecting onto the same eigenstates\n",
    "# that is A2+B1 and A3+B2 measurements\n",
    "for k in range(measuremensChoicesLength):\n",
    "    if (aliceMeasurementsChoices[k] == 1 and bobMeasurementsChoices[k] == 0) or (aliceMeasurementsChoices[k] == 2 and bobMeasurementsChoices[k] == 1):\n",
    "        aliceSiftedKey.append(aliceResults[k]) # write Alice's k-th result as a key bit\n",
    "        bobSiftedKey.append(bobResults[k]) # write Bob's k-th result as a key bit; must be inversed for the singlet state\n",
    "        siftedKeyLength += 1"
   ]
  },
  {
   "cell_type": "code",
   "execution_count": 24,
   "metadata": {},
   "outputs": [],
   "source": [
    "## Comparing bits of the sifted key\n",
    "# this information is not available for Alice and Bob\n",
    "\n",
    "keyMismatchesNumber = 0 # the number of mismatching bits in the sifted key\n",
    "\n",
    "for k in range(siftedKeyLength):\n",
    "    if aliceSiftedKey[k] != bobSiftedKey[k]:\n",
    "        keyMismatchesNumber += 1"
   ]
  },
  {
   "cell_type": "code",
   "execution_count": 25,
   "metadata": {},
   "outputs": [],
   "source": [
    "### OPTIMISATION NEEDED\n",
    "## CHSH inequality test\n",
    "\n",
    "# arrays with counts of measurement results\n",
    "# each element represents the number of (-1,-1), (-1,1), (1,-1) and (1,1) results respectively\n",
    "countA1B1 = [0, 0, 0, 0]\n",
    "countA1B3 = [0, 0, 0, 0]\n",
    "countA3B1 = [0, 0, 0, 0]\n",
    "countA3B3 = [0, 0, 0, 0]\n",
    "\n",
    "# numbers of measurement results obtained from measurements in a particular basis\n",
    "count11 = 0\n",
    "count13 = 0\n",
    "count31 = 0\n",
    "count33 = 0\n",
    "\n",
    "normalizer = 0 # normalizing factor; the total number of A1B1, A1B3, A3B1 and A3B3 measurements\n",
    "\n",
    "for k in range(measuremensChoicesLength):\n",
    "    \n",
    "    res = result.get_counts(circuits[k])\n",
    "    \n",
    "    if (aliceMeasurementsChoices[k] == 0 and bobMeasurementsChoices[k] == 0):\n",
    "        if '00000' in res:\n",
    "            countA1B1[0] += 1\n",
    "        if '00001' in res:\n",
    "            countA1B1[1] += 1\n",
    "        if '00010' in res:\n",
    "            countA1B1[2] += 1\n",
    "        if '00011' in res:\n",
    "            countA1B1[3] += 1\n",
    "        normalizer += 1\n",
    "        count11 += 1\n",
    "    if (aliceMeasurementsChoices[k] == 0 and bobMeasurementsChoices[k] == 2):\n",
    "        if '00000' in res:\n",
    "            countA1B3[0] += 1\n",
    "        if '00001' in res:\n",
    "            countA1B3[1] += 1\n",
    "        if '00010' in res:\n",
    "            countA1B3[2] += 1\n",
    "        if '00011' in res:\n",
    "            countA1B3[3] += 1\n",
    "        normalizer += 1\n",
    "        count13 += 1        \n",
    "    if (aliceMeasurementsChoices[k] == 2 and bobMeasurementsChoices[k] == 0):\n",
    "        if '00000' in res:\n",
    "            countA3B1[0] += 1\n",
    "        if '00001' in res:\n",
    "            countA3B1[1] += 1\n",
    "        if '00010' in res:\n",
    "            countA3B1[2] += 1\n",
    "        if '00011' in res:\n",
    "            countA3B1[3] += 1\n",
    "        normalizer += 1\n",
    "        count31 += 1        \n",
    "    if (aliceMeasurementsChoices[k] == 2 and bobMeasurementsChoices[k] == 2):\n",
    "        if '00000' in res:\n",
    "            countA3B3[0] += 1\n",
    "        if '00001' in res:\n",
    "            countA3B3[1] += 1\n",
    "        if '00010' in res:\n",
    "            countA3B3[2] += 1\n",
    "        if '00011' in res:\n",
    "            countA3B3[3] += 1\n",
    "        normalizer += 1\n",
    "        count33 += 1\n",
    "\n",
    "# expected values of A1B1, A1B3, A3B1 and A3B3  measurements results\n",
    "expect11 = (countA1B1[0] - countA1B1[1] - countA1B1[2] + countA1B1[3])/count11\n",
    "expect13 = (countA1B3[0] - countA1B3[1] - countA1B3[2] + countA1B3[3])/count13\n",
    "expect31 = (countA3B1[0] - countA3B1[1] - countA3B1[2] + countA3B1[3])/count31\n",
    "expect33 = (countA3B3[0] - countA3B3[1] - countA3B3[2] + countA3B3[3])/count33\n",
    "\n",
    "# CHSH correlation; must be equal to 2*sqrt(2) in the ideal case\n",
    "corr = expect11 - expect13 + expect31 + expect33\n",
    "diff = abs(corr - 2*math.sqrt(2))"
   ]
  },
  {
   "cell_type": "code",
   "execution_count": 27,
   "metadata": {},
   "outputs": [
    {
     "name": "stdout",
     "output_type": "stream",
     "text": [
      "CHSH correlation value is 1.763\n",
      "Difference from 2*sqrt(2) is 1.065\n",
      "\n",
      "Length of the sifted key is 42\n",
      "Number of mismatching bits is 7\n",
     ]
    }
   ],
   "source": [
    "## Print results\n",
    "\n",
    "# CHSH inequality test\n",
    "print('CHSH correlation value is ' + str(round(corr, 3)))\n",
    "print('Difference from 2*sqrt(2) is ' + str(round(diff, 3)) + '\\n')\n",
    "\n",
    "# Sifted key\n",
    "print('Length of the sifted key is ' + str(siftedKeyLength))\n",
    "print('Number of mismatching bits is ' + str(keyMismatchesNumber) + '\\n')"
   ]
  }
 ],
 "metadata": {
  "anaconda-cloud": {},
  "kernelspec": {
   "display_name": "Python 3",
   "language": "python",
   "name": "python3"
  },
  "language_info": {
   "codemirror_mode": {
    "name": "ipython",
    "version": 3
   },
   "file_extension": ".py",
   "mimetype": "text/x-python",
   "name": "python",
   "nbconvert_exporter": "python",
   "pygments_lexer": "ipython3",
   "version": "3.6.3"
  }
 },
 "nbformat": 4,
 "nbformat_minor": 1
}

{
 "cells": [
  {
   "cell_type": "code",
   "execution_count": 1,
   "metadata": {
    "collapsed": true
   },
   "outputs": [],
   "source": [
    "import numpy as np\n",
    "import random\n",
    "import math\n",
    "from pprint import pprint\n",
    "\n",
    "# Importing QISKit\n",
    "from qiskit import QuantumCircuit, QuantumProgram\n",
    "import Qconfig\n",
    "\n",
    "# Import basic plotting tools\n",
    "from qiskit.tools.visualization import plot_histogram\n",
    "\n",
    "# Quantum program setup \n",
    "Q_program = QuantumProgram()\n",
    "Q_program.set_api(Qconfig.APItoken, Qconfig.config['url']) # set the APIToken and API url"
   ]
  },
  {
   "cell_type": "code",
   "execution_count": 2,
   "metadata": {
    "collapsed": true
   },
   "outputs": [],
   "source": [
    "## Creating registers\n",
    "\n",
    "qr = Q_program.create_quantum_register(\"qr\", 2)\n",
    "cr = Q_program.create_classical_register(\"cr\", 2)"
   ]
  },
  {
   "cell_type": "code",
   "execution_count": 3,
   "metadata": {
    "collapsed": true
   },
   "outputs": [
    {
     "data": {
      "text/plain": [
       "<qiskit.extensions.standard.cx.CnotGate at 0x28e05eaf6a0>"
      ]
     },
     "execution_count": 3,
     "metadata": {},
     "output_type": "execute_result"
    }
   ],
   "source": [
    "## Creating a shared singlet state\n",
    "\n",
    "singlet = Q_program.create_circuit(\"singlet\", [qr], [cr])\n",
    "singlet.x(qr[0])\n",
    "singlet.x(qr[1])\n",
    "singlet.h(qr[0])\n",
    "singlet.cx(qr[0],qr[1])"
   ]
  },
  {
   "cell_type": "code",
   "execution_count": 4,
   "metadata": {
    "collapsed": true
   },
   "outputs": [],
   "source": [
    "## Alice's and Bob's measurement choice strings\n",
    "\n",
    "aliceMeasurementsChoices = []\n",
    "bobMeasurementsChoices = []\n",
    "\n",
    "measuremensChoicesLength = 50 # length of the strings\n",
    "\n",
    "# random strings generation\n",
    "for i in range(measuremensChoicesLength):\n",
    "    aliceMeasurementsChoices.append(random.randint(0, 2))\n",
    "    bobMeasurementsChoices.append(random.randint(0, 2))"
   ]
  },
  {
   "cell_type": "code",
   "execution_count": 5,
   "metadata": {
    "collapsed": true
   },
   "source": [
    "#debug# Print measurement choices strings\n",
    "print(aliceMeasurementsChoices)\n",
    "print(bobMeasurementsChoices)"
   ]
  },
  {
   "cell_type": "code",
   "execution_count": 6,
   "metadata": {
    "collapsed": true
   },
   "outputs": [
    {
     "data": {
      "text/plain": [
       "<qiskit._measure.Measure at 0x28e05f0b898>"
      ]
     },
     "execution_count": 6,
     "metadata": {},
     "output_type": "execute_result"
    }
   ],
   "source": [
    "## Alice's measurement circuits\n",
    "\n",
    "# measurement of spin projection onto (1; 0; 0) vector; standard X-measurement\n",
    "measureA1 = Q_program.create_circuit('measureA1', [qr], [cr])\n",
    "measureA1.h(qr[0])\n",
    "measureA1.measure(qr[0],cr[0])\n",
    "\n",
    "# measurement of spin projection onto (1/sqt(2); 0; 1/(sqrt(2)) vector\n",
    "# projection onto 1/sqrt(2)(Z+X) eigenstates\n",
    "measureA2 = Q_program.create_circuit('measureA2', [qr], [cr])\n",
    "measureA2.s(qr[0])\n",
    "measureA2.h(qr[0])\n",
    "measureA2.t(qr[0])\n",
    "measureA2.h(qr[0])\n",
    "measureA2.measure(qr[0],cr[0])\n",
    "\n",
    "# measurement of spin projection onto (0; 0; 1) vector; standard Z-measurement\n",
    "measureA3 = Q_program.create_circuit('measureA3', [qr], [cr])\n",
    "measureA3.measure(qr[0],cr[0])\n",
    "\n",
    "## Bob's measurement circuits\n",
    "\n",
    "# measurement of spin projection onto (1/sqt(2); 0; 1/(sqrt(2)) vector\n",
    "# projection onto 1/sqrt(2)(Z+X) eigenstates\n",
    "measureB1 = Q_program.create_circuit('measureB1', [qr], [cr])\n",
    "measureB1.s(qr[1])\n",
    "measureB1.h(qr[1])\n",
    "measureB1.t(qr[1])\n",
    "measureB1.h(qr[1])\n",
    "measureB1.measure(qr[1],cr[1])\n",
    "\n",
    "# measurement of spin projection onto (0; 0; 1) vector; standard Z-measurement\n",
    "measureB2 = Q_program.create_circuit('measureB2', [qr], [cr])\n",
    "measureB2.measure(qr[1],cr[1])\n",
    "\n",
    "# measurement of spin projection onto (-1/sqt(2); 0; 1/(sqrt(2)) vector\n",
    "# projection onto 1/sqrt(2)(Z-X) eigenstates\n",
    "measureB3 = Q_program.create_circuit('measureB3', [qr], [cr])\n",
    "measureB3.s(qr[1])\n",
    "measureB3.h(qr[1])\n",
    "measureB3.tdg(qr[1])\n",
    "measureB3.h(qr[1])\n",
    "measureB3.measure(qr[1],cr[1])"
   ]
  },
  {
   "cell_type": "code",
   "execution_count": 7,
   "metadata": {
    "collapsed": true
   },
   "outputs": [],
   "source": [
    "## Arrays of Alice's and Bob's measurement circuits\n",
    "\n",
    "aliceMeasurements = [measureA1, measureA2, measureA3]\n",
    "bobMeasurements = [measureB1, measureB2, measureB3]"
   ]
  },
  {
   "cell_type": "code",
   "execution_count": 8,
   "metadata": {
    "collapsed": true
   },
   "outputs": [],
   "source": [
    "circuits = [] # prepared circuits\n",
    "\n",
    "for k in range(measuremensChoicesLength):\n",
    "    circuitName = 'A' + str(aliceMeasurementsChoices[k]+1) + 'B' + str(bobMeasurementsChoices[k]+1)\n",
    "    Q_program.add_circuit(circuitName, singlet + aliceMeasurements[aliceMeasurementsChoices[k]] + bobMeasurements[bobMeasurementsChoices[k]]) # Measurement of Alice's and Bob's qubits\n",
    "    circuits.append(circuitName) # add measurement of singlet to circuits array"
   ]
  },
  {
   "cell_type": "code",
   "execution_count": 9,
   "metadata": {},
   "outputs": [
    {
     "name": "stdout",
     "output_type": "stream",
     "text": [
      "{'available': False, 'backend': 'ibmqx2', 'busy': False, 'pending_jobs': 3026}\n"
     ]
    }
   ],
   "source": [
    "## Device status\n",
    "\n",
    "pprint(Q_program.get_backend_status('ibmqx2'))"
   ]
  },
  {
   "cell_type": "code",
   "execution_count": 10,
   "metadata": {},
   "outputs": [
    {
     "name": "stdout",
     "output_type": "stream",
     "text": [
      "running on backend: local_qasm_simulator\n"
     ]
    }
   ],
   "source": [
    "## Execute circuits\n",
    "\n",
    "# backend that is used for the calculation\n",
    "backend = 'local_qasm_simulator' # simulator\n",
    "#backend = 'ibmqx2' # real device\n",
    "\n",
    "result = Q_program.execute(circuits, backend=backend, shots=1, max_credits=3, wait=10, timeout=240, silent=False)"
   ]
  },
  {
   "cell_type": "code",
   "execution_count": 11,
   "metadata": {
    "collapsed": true
   },
   "source": [
    "#debug# Print basis choices and posterior states\n",
    "\n",
    "for k in range(measuremensChoicesLength):\n",
    "    print(str(circuits[k]) + ': ' + str(result.get_counts(circuits[k])))"
   ]
  },
  {
   "cell_type": "code",
   "execution_count": 12,
   "metadata": {},
   "outputs": [],
   "source": [
    "## Writing measurement results\n",
    "\n",
    "aliceResults = [] # Alice's results\n",
    "bobResults = [] # Bob's results\n",
    "\n",
    "for k in range(measuremensChoicesLength):\n",
    "    res = result.get_counts(circuits[k]) # type = dictionary; in this case it has one key (state) and one value\n",
    "    if '00' in res: # check if the key is 00 (if posterior state is |00>)\n",
    "        aliceResults.append(-1) # Alice got the result -1 \n",
    "        bobResults.append(-1) # Bob got the result -1 \n",
    "    if '01' in res: # check if the key is 01 (if posterior state is |01>)\n",
    "        aliceResults.append(-1) # Alice got the result -1 \n",
    "        bobResults.append(1) # Bob got the result +1 \n",
    "    if '10' in res:\n",
    "        aliceResults.append(1)\n",
    "        bobResults.append(-1)\n",
    "    if '11' in res:\n",
    "        aliceResults.append(1)\n",
    "        bobResults.append(1)"
   ]
  },
  {
   "cell_type": "code",
   "execution_count": 13,
   "metadata": {
    "collapsed": true
   },
   "outputs": [
    {
     "name": "stdout",
     "output_type": "stream",
     "text": [
      "[1, 1, -1, 1, -1, 1, -1, 1, -1, 1, -1, 1, -1, 1, -1, 1, -1, 1, 1, -1, -1, 1, -1, 1, 1, 1, 1, 1, 1, 1, 1, 1, -1, 1, 1, -1, 1, -1, 1, 1, -1, 1, -1, 1, 1, 1, 1, 1, 1, -1]\n",
      "[-1, -1, 1, -1, -1, -1, -1, -1, 1, -1, 1, -1, 1, -1, -1, -1, 1, 1, -1, -1, -1, -1, 1, 1, -1, -1, -1, -1, -1, -1, -1, -1, -1, -1, 1, 1, -1, -1, -1, -1, 1, 1, -1, -1, -1, -1, 1, -1, -1, 1]\n"
     ]
    }
   ],
   "source": [
    "#debug# Print measurement results\n",
    "\n",
    "print(aliceResults)\n",
    "print(bobResults)"
   ]
  },
  {
   "cell_type": "code",
   "execution_count": 14,
   "metadata": {
    "collapsed": true
   },
   "outputs": [],
   "source": [
    "## Basis choises check stage\n",
    "#\n",
    "# Alice and Bob reveal their strings with basis choices\n",
    "#\n",
    "# If in k-th measurement A and B used the same basis,\n",
    "# then they write the result of the k-th measurement as the bit of the sifted key \n",
    "\n",
    "aliceSiftedKey = [] # Alice's siffted key string\n",
    "bobSiftedKey = [] # Bob's siffted key string\n",
    "\n",
    "# the sifted key consist of the results obtained by projecting onto the same eigenstates\n",
    "# that is A2+B1 and A3+B2 measurements\n",
    "for k in range(measuremensChoicesLength):\n",
    "    if (aliceMeasurementsChoices[k] == 1 and bobMeasurementsChoices[k] == 0) or (aliceMeasurementsChoices[k] == 2 and bobMeasurementsChoices[k] == 1):\n",
    "        aliceSiftedKey.append(aliceResults[k]) # write Alice's k-th result as a key bit\n",
    "        bobSiftedKey.append(-bobResults[k]) # write inversed Bob's k-th result as a key bit   "
   ]
  },
  {
   "cell_type": "code",
   "execution_count": 15,
   "metadata": {
    "collapsed": true
   },
   "outputs": [
    {
     "name": "stdout",
     "output_type": "stream",
     "text": [
      "[-1, 1, 1, -1, 1, -1, 1, 1, 1]\n",
      "[-1, 1, 1, -1, 1, -1, 1, 1, 1]\n"
     ]
    }
   ],
   "source": [
    "#debug# Print sifted keys; have to be the same\n",
    "\n",
    "print(aliceSiftedKey)\n",
    "print(bobSiftedKey)"
   ]
  },
  {
   "cell_type": "code",
   "execution_count": 16,
   "metadata": {},
   "outputs": [],
   "source": [
    "## CHSH inequality test\n",
    "# inefficient; could be performed in the previous block\n",
    "\n",
    "countA1B1 = [0, 0, 0, 0]\n",
    "countA1B3 = [0, 0, 0, 0]\n",
    "countA3B1 = [0, 0, 0, 0]\n",
    "countA3B3 = [0, 0, 0, 0]\n",
    "c11 = 0\n",
    "c13 = 0\n",
    "c31 = 0\n",
    "c33 = 0\n",
    "norm = 0\n",
    "\n",
    "for k in range(measuremensChoicesLength):\n",
    "    \n",
    "    res = result.get_counts(circuits[k])\n",
    "    \n",
    "    if (aliceMeasurementsChoices[k] == 0 and bobMeasurementsChoices[k] == 0):\n",
    "        if '00' in res:\n",
    "            countA1B1[0] += 1\n",
    "        if '01' in res:\n",
    "            countA1B1[1] += 1\n",
    "        if '10' in res:\n",
    "            countA1B1[2] += 1\n",
    "        if '11' in res:\n",
    "            countA1B1[3] += 1\n",
    "        norm += 1\n",
    "        c11 += 1\n",
    "    if (aliceMeasurementsChoices[k] == 0 and bobMeasurementsChoices[k] == 2):\n",
    "        if '00' in res:\n",
    "            countA1B3[0] += 1\n",
    "        if '01' in res:\n",
    "            countA1B3[1] += 1\n",
    "        if '10' in res:\n",
    "            countA1B3[2] += 1\n",
    "        if '11' in res:\n",
    "            countA1B3[3] += 1\n",
    "        norm += 1\n",
    "        c13 += 1        \n",
    "    if (aliceMeasurementsChoices[k] == 2 and bobMeasurementsChoices[k] == 0):\n",
    "        if '00' in res:\n",
    "            countA3B1[0] += 1\n",
    "        if '01' in res:\n",
    "            countA3B1[1] += 1\n",
    "        if '10' in res:\n",
    "            countA3B1[2] += 1\n",
    "        if '11' in res:\n",
    "            countA3B1[3] += 1\n",
    "        norm += 1\n",
    "        c31 += 1        \n",
    "    if (aliceMeasurementsChoices[k] == 2 and bobMeasurementsChoices[k] == 2):\n",
    "        if '00' in res:\n",
    "            countA3B3[0] += 1\n",
    "        if '01' in res:\n",
    "            countA3B3[1] += 1\n",
    "        if '10' in res:\n",
    "            countA3B3[2] += 1\n",
    "        if '11' in res:\n",
    "            countA3B3[3] += 1\n",
    "        norm += 1\n",
    "        c33 += 1\n"
   ]
  },
  {
   "cell_type": "code",
   "execution_count": null,
   "metadata": {
    "collapsed": true
   },
   "outputs": [],
   "source": []
  }
 ],
 "metadata": {
  "kernelspec": {
   "display_name": "Python 3",
   "language": "python",
   "name": "python3"
  },
  "language_info": {
   "codemirror_mode": {
    "name": "ipython",
    "version": 3
   },
   "file_extension": ".py",
   "mimetype": "text/x-python",
   "name": "python",
   "nbconvert_exporter": "python",
   "pygments_lexer": "ipython3",
   "version": "3.6.3"
  }
 },
 "nbformat": 4,
 "nbformat_minor": 2
}

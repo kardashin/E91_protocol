{
 "cells": [
  {
   "cell_type": "markdown",
   "metadata": {},
   "source": [
    "<img src=\"images/QISKit-c.gif\" alt=\"Note: In order for images to show up in this jupyter notebook you need to select File => Trusted Notebook\" width=\"250 px\" align=\"left\">"
   ]
  },
  {
   "cell_type": "markdown",
   "metadata": {},
   "source": [
    "## _*E91 quantum key distribution protocol*_\n",
    "***\n",
    "### Contributors\n",
    "Andrey Kardashin"
   ]
  },
  {
   "cell_type": "markdown",
   "metadata": {},
   "source": [
    "## *Introduction*"
   ]
  },
  {
   "cell_type": "markdown",
   "metadata": {},
   "source": [
    "Suppose that Alice wants to send a message to Bob.\n",
    "In order to protect the information in the message from the eavesdropper Eve, it must be encrypted.\n",
    "Encryption is the process of encoding the *plaintext* into *ciphertext*.\n",
    "The strength of encryption, that is, the property to resist decryption, is determined by its algorithm.\n",
    "Any encryption algorithm is based on the use of a *key*.\n",
    "In order to generate the ciphertext, the [one-time pad technique](https://en.wikipedia.org/wiki/One-time_pad) is usually used.\n",
    "\n",
    "The idea of this technique is to apply the *exclusive or* (XOR) $\\oplus$ operation to bits of the plaintext and bits of the key to obtain the ciphertext.\n",
    "Thus, if $m=(m_1 \\ldots m_n)$, $c=(c_1 \\ldots c_n)$ and $k=(k_1 \\ldots k_n)$ are binary strings of plaintext, ciphertext and key respectively, then the encryption is defined as $c_i=m_i \\oplus k_i$, and decryption as $m_i=c_i \\oplus k_i$.\n",
    "![](images/one-time_pad.png)\n",
    "\n",
    "The one-time pad method is proved to be be absolutely secure.\n",
    "Thus, if Eve intercepted the ciphertext $c$, she will not get any information from the message $m$ until she has the key $k$.\n",
    "\n",
    "The main problem of modern cryptographic systems is the distribution among the participants of the communication session of a secret key, possession of which should not be available to third parties.\n",
    "The rapidly developing methods of quantum key distribution can solve this problem regardless of the capabilities of the eavesdropper.\n",
    "In this tutorial, we show how Alice and Bob can generate a secret key using the *E91* quantum key distribution protocol."
   ]
  },
  {
   "cell_type": "markdown",
   "metadata": {},
   "source": [
    "## *Quantum entanglement*"
   ]
  },
  {
   "cell_type": "markdown",
   "metadata": {},
   "source": [
    "The E91 protocol developed by Artur Ekert in 1991 is based on the use of entangled states and Bell's theorem (see [Entanglement Revisited](https://github.com/QISKit/qiskit-tutorial/blob/master/2_quantum_information/entanglement_revisited.ipynb) QISKit tutorial).\n",
    "It is known that two electrons *A* and *B* can be prepared in such a state that they can not be considered separately from each other.\n",
    "One of these states is the singlet state\n",
    "\n",
    "$$\\lvert\\psi_s\\rangle =\n",
    "  \\frac{1}{\\sqrt{2}}(\\lvert0\\rangle_A\\otimes\\lvert1\\rangle_B - \\lvert1\\rangle_A\\otimes\\lvert0\\rangle_B) =\n",
    "  \\frac{1}{\\sqrt{2}}(\\lvert01\\rangle - \\lvert10\\rangle),$$\n",
    "  \n",
    "where the vectors $\\lvert 0 \\rangle$ and $\\lvert 1 \\rangle$ describe the states of each electron with the [spin](https://en.wikipedia.org/wiki/Spin_(physics%29) projection along the positive and negative direction of the *z* axis.\n",
    "\n",
    "The observable of the projection of the spin onto the direction $\\vec{n}=(n_x, n_y, n_z)$ is given by\n",
    "\n",
    "$$\\vec{n} \\cdot \\vec{\\sigma} = \n",
    "n_x X + n_y Y + n_z Z,$$\n",
    "\n",
    "where $\\vec{\\sigma} = (X, Y, Z)$ and $X, Y, Z$ are the Pauli matrices.\n",
    "For two qubits *A* and *B*, the observable $(\\vec{a} \\cdot \\vec{\\sigma})_A \\otimes (\\vec{b} \\cdot \\vec{\\sigma})_B$ describes the joint measurement of the spin projections onto the directions $\\vec{a}$ and $\\vec{b}$.\n",
    "It can be shown that the expectation value of this observable in the singlet state is\n",
    "\n",
    "$$\\langle (\\vec{a} \\cdot \\vec{\\sigma})_A \\otimes (\\vec{b} \\cdot \\vec{\\sigma})_B \\rangle_{\\psi_s} =\n",
    "-\\vec{a} \\cdot \\vec{b}. \\qquad\\qquad (1)$$\n",
    "\n",
    "Here we see an interesting fact: if Alice and Bob measure the spin projections of electrons A and B onto the same direction, they will obtain the opposite results.\n",
    "Thus, if Alice got the result $\\pm 1$, then Bob *definitely* will get the result $\\mp 1$, i.e. the results will be perfectly anticorrelated."
   ]
  },
  {
   "cell_type": "markdown",
   "metadata": {},
   "source": [
    "## *CHSH inequality*"
   ]
  },
  {
   "cell_type": "markdown",
   "metadata": {},
   "source": [
    "In the framework of classical physics, it is impossible to create a correlation inherent in the singlet state $\\lvert\\psi_s\\rangle$.\n",
    "Indeed, let us measure the observables $X$, $Z$ for qubit *A* and observables $W = \\frac{1}{\\sqrt{2}} (X + Z)$, $V = \\frac{1}{\\sqrt{2}} (-X + Z)$ for qubit *B*.\n",
    "Performing joint measurements of these observables, the following expectation values can be obtained:\n",
    "\\begin{eqnarray*}\n",
    " \\langle X \\otimes W \\rangle_{\\psi_s} &= -\\frac{1}{\\sqrt{2}}, \\quad \n",
    " \\langle X \\otimes V \\rangle_{\\psi_s} &= \\frac{1}{\\sqrt{2}}, \\qquad\\qquad (2) \\\\\n",
    " \\langle Z \\otimes W \\rangle_{\\psi_s} &= -\\frac{1}{\\sqrt{2}}, \\quad\n",
    " \\langle Z \\otimes V \\rangle_{\\psi_s} &= -\\frac{1}{\\sqrt{2}}.\n",
    "\\end{eqnarray*}\n",
    "Now we can costruct the *Clauser-Horne-Shimony-Holt (CHSH) correlation value*:\n",
    "\n",
    "$$C =\n",
    "\\langle X\\otimes W \\rangle - \\langle X \\otimes V \\rangle + \\langle Z \\otimes W \\rangle + \\langle Z \\otimes V \\rangle =\n",
    "-2 \\sqrt{2}. \\qquad\\qquad (3)$$\n",
    "\n",
    "The [local hidden variable theory](https://en.wikipedia.org/wiki/Local_hidden_variable_theory) which was developed in particular to explain the quantum correlations gives that $\\lvert C \\rvert \\leqslant 2$.\n",
    "But [Bell's theorem](https://en.wikipedia.org/wiki/Bell's_theorem) states that \"no physical theory of local hidden variables can ever reproduce all of the predictions of quantum mechanics.\"\n",
    "Thus, the violation of the [CHSH inequality](https://en.wikipedia.org/wiki/Bell's_theorem#Bell_inequalities_are_violated_by_quantum_mechanical_predictions) (i.e. $C = -2 \\sqrt{2}$ for the singlet state), which is a generalized form of Bell's inequality, can serve as an *indicator of quantum entanglement*.\n",
    "This fact finds its application in the E91 protocol."
   ]
  },
  {
   "cell_type": "markdown",
   "metadata": {},
   "source": [
    "## *The protocol* \n",
    "\n",
    "To implement the E91 quantum key distribution protocol, there must be a source of qubits prepared in the singlet state.\n",
    "It does not matter to whom this source belongs: to Alice, to Bob, to some trusted third-party Charlie or even to Eve.\n",
    "\n",
    "The steps of the E91 protocol are following."
   ]
  },
  {
   "cell_type": "markdown",
   "metadata": {},
   "source": [
    "1. Charlie, the owner of the singlet state preparation device, creates $N$ entangled states $\\lvert\\psi_s\\rangle$ and sends qubits *A* to Alice and qubits *B* to Bob via the quantum channel.\n",
    "![](images/singlet_distribution.png)\n",
    "\n",
    "2. Participants Alice and Bob generate strings $b=(b_1 \\ldots b_N)$ and $b^{'}=(b_1^{'} \\ldots b_N^{'})$, where $b_i, b^{'}_j = 1, 2, 3$.\n",
    "Depending on the elements of these strings, Alice and Bob measure the spin projections of their qubits along the following directions:\n",
    "\\begin{align*}\n",
    " b_i = 1: \\quad \\vec{a}_1 &= (1,0,0) \\quad (X \\text{ observable}) &\n",
    " b_j^{'} = 1: \\quad \\vec{b}_1 &= \\left(\\frac{1}{\\sqrt{2}},0,\\frac{1}{\\sqrt{2}}\\right) \\quad (W \\text{ observable})\n",
    " \\\\\n",
    " b_i = 2: \\quad \\vec{a}_2 &= \\left(\\frac{1}{\\sqrt{2}},0,\\frac{1}{\\sqrt{2}}\\right) \\quad (W \\text{ observable}) &\n",
    " b_j^{'} = 2: \\quad \\vec{b}_2 &= (0,0,1) \\quad ( \\text{Z observable})\n",
    " \\\\\n",
    " b_i = 3: \\quad \\vec{a}_3 &= (0,0,1) \\quad (Z \\text{ observable}) &\n",
    " b_j^{'} = 3: \\quad \\vec{b}_3 &= \\left(-\\frac{1}{\\sqrt{2}},0,\\frac{1}{\\sqrt{2}}\\right) \\quad (V \\text{ observable})\n",
    "\\end{align*}\n",
    "<img src=\"images/vectors.png\" alt=\"Note: In order for images to show up in this jupyter notebook you need to select File => Trusted Notebook\" width=\"500 px\" align=\"center\">\n",
    "We can describe this process as a measurement of the observables $(\\vec{a}_i \\cdot \\vec{\\sigma})_A \\otimes (\\vec{b}_j \\cdot \\vec{\\sigma})_B$ for each singlet state created by Charlie.\n",
    "\n",
    "3. Alice and Bob record the results of their measurements as elements of strings $a=(a_1 \\ldots a_N)$ and $a^{'} =(a_1^{'} \\ldots a_N^{'})$ respectively, where $a_i, a^{'}_j = \\pm 1$.\n",
    "\n",
    "4. Using the classical channel, participants compare their strings $b=(b_1 \\ldots b_N)$ and $b^{'}=(b_1^{'} \\ldots b_N^{'})$.\n",
    "In other words, Alice and Bob tell each other which measurements they have performed during the step 2.\n",
    "If Alice and Bob have measured the spin projections of the $m$-th entangled pair of qubits onto the same direction (i.e. $\\vec{a}_2/\\vec{b}_1$ or $\\vec{a}_3/\\vec{b}_2$ for Alice's and Bob's qubit respectively), then they are sure that they obtained opposite results, i.e. $a_m = - a_m^{'}$ (see Eq. (1)).\n",
    "Thus, for the $l$-th bit of the key strings $k=(k_1 \\ldots k_n),k^{'}=(k_1^{'} \\ldots k_n^{'})$ Alice and Bob can write $k_l = a_m, k_l^{'} = -a_m^{'}$.\n",
    "![](images/step3-4strings.png)\n",
    "\n",
    "5. Using the results obtained after measuring the spin projections onto the $\\vec{a}_1/\\vec{b}_1$, $\\vec{a}_1/\\vec{b}_3$, $\\vec{a}_3/\\vec{b}_1$ and $\\vec{a}_3/\\vec{b}_3$ directions (observables $(2)$), Alice and Bob calculate the CHSH correlation value $(3)$.\n",
    "If $C = -2\\sqrt{2}$, then Alice and Bob can be sure that the states they had been receiving from Charlie were entangled indeed.\n",
    "This fact tells the participants that there was no interference in the quantum channel."
   ]
  },
  {
   "cell_type": "markdown",
   "metadata": {},
   "source": [
    "## *Simulation* \n",
    "\n",
    "In this section we simulate the E91 quantum key distribution protocol *without* the presence of an eavesdropper."
   ]
  },
  {
   "cell_type": "markdown",
   "metadata": {},
   "source": [
    "### *Step one: creating the singlets*\n",
    "\n",
    "In the first step Alice and Bob receive their qubits of the singlet states $\\lvert\\psi_s\\rangle$ created by Charlie.\n",
    "\n",
    "For our simulation, we need registers with two quantum bits and four classical bits."
   ]
  },
  {
   "cell_type": "code",
   "execution_count": 1,
   "metadata": {},
   "outputs": [],
   "source": [
    "# Checking the version of PYTHON; we only support > 3.5\n",
    "import sys\n",
    "if sys.version_info < (3,5):\n",
    "    raise Exception('Please use Python version 3.5 or greater.')\n",
    "    \n",
    "# useful additional packages \n",
    "import numpy as np\n",
    "import random\n",
    "import math\n",
    "import re # regular expressions module\n",
    "\n",
    "# importing the QISKit\n",
    "from qiskit import QuantumCircuit, QuantumProgram\n",
    "import Qconfig\n",
    "\n",
    "# Quantum program setup\n",
    "Q_program = QuantumProgram()\n",
    "#Q_program.set_api(Qconfig.APItoken, Qconfig.config['url']) # set the APIToken and API url\n",
    "\n",
    "# Creating registers\n",
    "qr = Q_program.create_quantum_register(\"qr\", 2)\n",
    "cr = Q_program.create_classical_register(\"cr\", 4)"
   ]
  },
  {
   "cell_type": "markdown",
   "metadata": {},
   "source": [
    "Let us assume that qubits *qr\\[0\\]* and *qr\\[1\\]* belong to Alice and Bob respetively.\n",
    "In classical bits *cr\\[0\\]* and *cr\\[1\\]* Alice and Bob store their measurement results, and classical bits *cr\\[2\\]* and *cr\\[3\\]* are used by Eve to store her measurement results of Alice's and Bob's qubits.\n",
    "\n",
    "Now Charlie creates a singlet state:"
   ]
  },
  {
   "cell_type": "code",
   "execution_count": 2,
   "metadata": {},
   "outputs": [
    {
     "data": {
      "text/plain": [
       "<qiskit.extensions.standard.cx.CnotGate at 0xebdf4cc8d0>"
      ]
     },
     "execution_count": 2,
     "metadata": {},
     "output_type": "execute_result"
    }
   ],
   "source": [
    "singlet = Q_program.create_circuit('singlet', [qr], [cr])\n",
    "singlet.x(qr[0])\n",
    "singlet.x(qr[1])\n",
    "singlet.h(qr[0])\n",
    "singlet.cx(qr[0],qr[1])"
   ]
  },
  {
   "cell_type": "markdown",
   "metadata": {},
   "source": [
    "Qubits *qr\\[0\\]* and *qr\\[1\\]* are now entangled.\n",
    "After creating a singlet state, Charlie sends qubit *qr\\[0\\]* to Alice and qubit *qr\\[1\\]* to Bob.\n",
    "![](images/singlet_device.png)"
   ]
  },
  {
   "cell_type": "markdown",
   "metadata": {},
   "source": [
    "### *Step two: measuring*"
   ]
  },
  {
   "cell_type": "markdown",
   "metadata": {},
   "source": [
    "First let us prepare the measurements which will be used by Alice and Bob.\n",
    "We define $A(\\vec{a}_i) = \\vec{a}_i \\cdot \\vec{\\sigma}$ and $B(\\vec{b}_j) = \\vec{b}_j \\cdot \\vec{\\sigma}$ as the spin projection observables used by Alice and Bob for their measurements.\n",
    "To perform these measurements, the standard basis $Z$ must be rotated to the proper basis when it is needed (see [Superposition](https://quantumexperience.ng.bluemix.net/proxy/tutorial/full-user-guide/002-The_Weird_and_Wonderful_World_of_the_Qubit/020-Superposition.html) and [Entanglement and Bell Tests](https://quantumexperience.ng.bluemix.net/proxy/tutorial/full-user-guide/003-Multiple_Qubits_Gates_and_Entangled_States/050-Entanglement_and_Bell_Tests.html) user guides).\n",
    "Here we define the notation of possible measurements of Alice and Bob: \n",
    "![](images/bases.png)"
   ]
  },
  {
   "cell_type": "markdown",
   "metadata": {},
   "source": [
    "Blocks on the left side can be considered as *detectors* used by the participants to measure $X, W, Z$ and $V$ observables.\n",
    "Now we prepare the corresponding curcuits."
   ]
  },
  {
   "cell_type": "code",
   "execution_count": 3,
   "metadata": {},
   "outputs": [],
   "source": [
    "## Alice's measurement circuits\n",
    "\n",
    "# measure the spin projection of Alice's qubit onto the a_1 direction (X basis)\n",
    "measureA1 = Q_program.create_circuit('measureA1', [qr], [cr])\n",
    "measureA1.h(qr[0])\n",
    "measureA1.measure(qr[0],cr[0])\n",
    "\n",
    "# measure the spin projection of Alice's qubit onto the a_2 direction (W basis)\n",
    "measureA2 = Q_program.create_circuit('measureA2', [qr], [cr])\n",
    "measureA2.s(qr[0])\n",
    "measureA2.h(qr[0])\n",
    "measureA2.t(qr[0])\n",
    "measureA2.h(qr[0])\n",
    "measureA2.measure(qr[0],cr[0])\n",
    "\n",
    "# measure the spin projection of Alice's qubit onto the a_3 direction (standard Z basis)\n",
    "measureA3 = Q_program.create_circuit('measureA3', [qr], [cr])\n",
    "measureA3.measure(qr[0],cr[0])\n",
    "\n",
    "## Bob's measurement circuits\n",
    "\n",
    "# measure the spin projection of Bob's qubit onto the b_1 direction (W basis)\n",
    "measureB1 = Q_program.create_circuit('measureB1', [qr], [cr])\n",
    "measureB1.s(qr[1])\n",
    "measureB1.h(qr[1])\n",
    "measureB1.t(qr[1])\n",
    "measureB1.h(qr[1])\n",
    "measureB1.measure(qr[1],cr[1])\n",
    "\n",
    "# measure the spin projection of Bob's qubit onto the b_2 direction (standard Z basis)\n",
    "measureB2 = Q_program.create_circuit('measureB2', [qr], [cr])\n",
    "measureB2.measure(qr[1],cr[1])\n",
    "\n",
    "# measure the spin projection of Bob's qubit onto the b_3 direction (V basis)\n",
    "measureB3 = Q_program.create_circuit('measureB3', [qr], [cr])\n",
    "measureB3.s(qr[1])\n",
    "measureB3.h(qr[1])\n",
    "measureB3.tdg(qr[1])\n",
    "measureB3.h(qr[1])\n",
    "measureB3.measure(qr[1],cr[1])\n",
    "\n",
    "## Lists of measurement circuits\n",
    "aliceMeasurements = [measureA1, measureA2, measureA3]\n",
    "bobMeasurements = [measureB1, measureB2, measureB3]"
   ]
  },
  {
   "cell_type": "markdown",
   "metadata": {},
   "source": [
    "Supose Alice and Bob want to generate a secret key using $N$ singlet states prepared by Charlie. "
   ]
  },
  {
   "cell_type": "code",
   "execution_count": 4,
   "metadata": {},
   "outputs": [],
   "source": [
    "# Define the number of singlets N\n",
    "numberOfSinglets = 500"
   ]
  },
  {
   "cell_type": "markdown",
   "metadata": {},
   "source": [
    "The participants must choose the directions onto which they will measure the spin projections of their qubits.\n",
    "To do this, Alice and Bob create the strings $b$ and $b^{'}$ with randomly generated elements."
   ]
  },
  {
   "cell_type": "code",
   "execution_count": 5,
   "metadata": {},
   "outputs": [],
   "source": [
    "aliceMeasurementChoices = [random.randint(1, 3) for i in range(numberOfSinglets)] # string b of Alice\n",
    "bobMeasurementChoices = [random.randint(1, 3) for i in range(numberOfSinglets)] # string b' of Bob"
   ]
  },
  {
   "cell_type": "markdown",
   "metadata": {},
   "source": [
    "Now we combine Charlie's device and Alice's and Bob's detectors into one circuit (singlet + Alice's measurement + Bob's measurement)."
   ]
  },
  {
   "cell_type": "code",
   "execution_count": 6,
   "metadata": {},
   "outputs": [],
   "source": [
    "circuits = [] # the list in which the created circuits will be stored\n",
    "\n",
    "for i in range(numberOfSinglets):\n",
    "    # create the name of the i-th circuit depending on Alice's and Bob's measurement choices\n",
    "    circuitName = str(i) + ':A' + str(aliceMeasurementChoices[i]) + '_B' + str(bobMeasurementChoices[i])\n",
    "    \n",
    "    # create the joint measurement circuit\n",
    "    # add Alice's and Bob's measurement circuits to the singlet state curcuit\n",
    "    Q_program.add_circuit(circuitName,\n",
    "                          singlet + # singlet state circuit\n",
    "                          aliceMeasurements[aliceMeasurementChoices[i]-1] + # measurement circuit of Alice\n",
    "                          bobMeasurements[bobMeasurementChoices[i]-1] # measurement circuit of Bob\n",
    "                         )\n",
    "    \n",
    "    # add the created circuit to the circuits list\n",
    "    circuits.append(circuitName)"
   ]
  },
  {
   "cell_type": "markdown",
   "metadata": {},
   "source": [
    "Let us look at the name of one of the prepared circuits."
   ]
  },
  {
   "cell_type": "code",
   "execution_count": 7,
   "metadata": {},
   "outputs": [
    {
     "name": "stdout",
     "output_type": "stream",
     "text": [
      "0:A1_B2\n"
     ]
    }
   ],
   "source": [
    "print(circuits[0])"
   ]
  },
  {
   "cell_type": "markdown",
   "metadata": {},
   "source": [
    "It tells us about the number of the singlet state received from Charlie, and the measurements applied by Alice and Bob.\n",
    "\n",
    "In the *circuits* list we have stored $N$ (*numberOfSinglets*) circuits similar to those shown in the figure below.\n",
    "![](images/AB_circuit.png)\n",
    "\n",
    "The idea is to model every act of the creation of the singlet state, the distribution of its qubits among the participants and the measurement of the spin projection onto the chosen direction in the E91 protocol by executing each circuit from the *circuits* list with one shot."
   ]
  },
  {
   "cell_type": "markdown",
   "metadata": {},
   "source": [
    "### *Step three: recording the results*"
   ]
  },
  {
   "cell_type": "markdown",
   "metadata": {},
   "source": [
    "First let us execute the circuits on the simulator."
   ]
  },
  {
   "cell_type": "code",
   "execution_count": 8,
   "metadata": {},
   "outputs": [
    {
     "name": "stdout",
     "output_type": "stream",
     "text": [
      "COMPLETED\n"
     ]
    }
   ],
   "source": [
    "result = Q_program.execute(circuits, backend='local_qasm_simulator', shots=1, max_credits=5, wait=10, timeout=240)\n",
    "print(result)"
   ]
  },
  {
   "cell_type": "markdown",
   "metadata": {},
   "source": [
    "Look at the output of the execution of the first circuit."
   ]
  },
  {
   "cell_type": "code",
   "execution_count": 9,
   "metadata": {},
   "outputs": [
    {
     "data": {
      "text/plain": [
       "{'0001': 1}"
      ]
     },
     "execution_count": 9,
     "metadata": {},
     "output_type": "execute_result"
    }
   ],
   "source": [
    "result.get_counts(circuits[0])"
   ]
  },
  {
   "cell_type": "markdown",
   "metadata": {},
   "source": [
    "It consists of four digits.\n",
    "Recall that Alice and Bob store the results of the measurement in classical bits *cr\\[0\\]* and *cr\\[1\\]* (two digits on the right).\n",
    "Since we model the secret key generation process without the presence of an eavesdropper, the classical bits *cr\\[2\\]* and *cr\\[3\\]* are always 0.\n",
    "Also note that the output is the Python dictionary, in which the keys are the obtained results, and the values are the counts.\n",
    "\n",
    "Alice and Bob record the results of their measurements as bits of the strings $a$ and $a^{'}$.\n",
    "To simulate this process we need to use regular expressions module *[re](https://docs.python.org/3/howto/regex.html#regex-howto)*.\n",
    "First, we compile the search patterns."
   ]
  },
  {
   "cell_type": "code",
   "execution_count": 10,
   "metadata": {},
   "outputs": [],
   "source": [
    "abPatterns = [\n",
    "    re.compile('..00$'), # search for the '..00' output (Alice obtained -1 and Bob obtained -1)\n",
    "    re.compile('..01$'), # search for the '..01' output\n",
    "    re.compile('..10$'), # search for the '..10' output (Alice obtained -1 and Bob obtained 1)\n",
    "    re.compile('..11$')  # search for the '..11' output\n",
    "]"
   ]
  },
  {
   "cell_type": "markdown",
   "metadata": {},
   "source": [
    "Using these patterns, we can find particular results in the outputs and fill strings the $a$ and $a^{'}$ with the results of Alice's and Bob's measurements."
   ]
  },
  {
   "cell_type": "code",
   "execution_count": 11,
   "metadata": {},
   "outputs": [],
   "source": [
    "aliceResults = [] # Alice's results (string a)\n",
    "bobResults = [] # Bob's results (string a')\n",
    "\n",
    "for i in range(numberOfSinglets):\n",
    "\n",
    "    res = list(result.get_counts(circuits[i]).keys())[0] # extract the key from the dict and transform it to str; execution result of the i-th circuit\n",
    "    \n",
    "    if abPatterns[0].search(res): # check if the key is '..00' (if the measurement results are -1,-1)\n",
    "        aliceResults.append(-1) # Alice got the result -1 \n",
    "        bobResults.append(-1) # Bob got the result -1\n",
    "    if abPatterns[1].search(res):\n",
    "        aliceResults.append(1)\n",
    "        bobResults.append(-1)\n",
    "    if abPatterns[2].search(res): # check if the key is '..10' (if the measurement results are -1,1)\n",
    "        aliceResults.append(-1) # Alice got the result -1 \n",
    "        bobResults.append(1) # Bob got the result 1\n",
    "    if abPatterns[3].search(res): \n",
    "        aliceResults.append(1)\n",
    "        bobResults.append(1)"
   ]
  },
  {
   "cell_type": "markdown",
   "metadata": {},
   "source": [
    "### *Step four: revealing the bases*"
   ]
  },
  {
   "cell_type": "markdown",
   "metadata": {},
   "source": [
    "In the previos step we have stored the measurement results of Alice and Bob in the *aliceResults* and *bobResults* lists (strings $a$ and $a^{'}$).\n",
    "Now the participants compare their strings $b$ and $b^{'}$ via the public classical channel.\n",
    "If Alice and Bob have measured the spin projections of their qubits of the *i*-th singlet onto the same direction, then Alice records the result $a_i$ as the bit of the string $k$, and Bob records the result $-a_i$ as the bit of the string $k^{'}$ (see Eq. (1))."
   ]
  },
  {
   "cell_type": "code",
   "execution_count": 12,
   "metadata": {},
   "outputs": [],
   "source": [
    "aliceKey = [] # Alice's key string k\n",
    "bobKey = [] # Bob's key string k'\n",
    "\n",
    "# comparing the stings with measurement choices\n",
    "for i in range(numberOfSinglets):\n",
    "    # if Alice and Bob have measured the spin projections onto the a_2/b_1 or a_3/b_2 directions\n",
    "    if (aliceMeasurementChoices[i] == 2 and bobMeasurementChoices[i] == 1) or (aliceMeasurementChoices[i] == 3 and bobMeasurementChoices[i] == 2):\n",
    "        aliceKey.append(aliceResults[i]) # record the i-th result obtained by Alice as the bit of the secret key k\n",
    "        bobKey.append(- bobResults[i]) # record the multiplied by -1 i-th result obtained Bob as the bit of the secret key k'\n",
    "        \n",
    "keyLength = len(aliceKey) # length of the secret key"
   ]
  },
  {
   "cell_type": "markdown",
   "metadata": {},
   "source": [
    "The keys $k$ and $k'$ are now stored in the *aliceKey* and *bobKey* lists, respectively.\n",
    "The remaining results which were not used to create the keys can now be revealed.\n",
    "\n",
    "It is important for Alice and Bob to have the same keys, i.e. strings $k$ and $k^{'}$ must be equal.\n",
    "Let us compare the bits of strings $k$ and $k^{'}$ and find out how many there are mismatches in the keys."
   ]
  },
  {
   "cell_type": "code",
   "execution_count": 13,
   "metadata": {},
   "outputs": [],
   "source": [
    "abKeyMismatches = 0 # number of mismatching bits in Alice's and Bob's keys\n",
    "\n",
    "for j in range(keyLength):\n",
    "    if aliceKey[j] != bobKey[j]:\n",
    "        abKeyMismatches += 1"
   ]
  },
  {
   "cell_type": "markdown",
   "metadata": {},
   "source": [
    "Note that since the strings $k$ and $k^{'}$ are secret, Alice and Bob have no information about mismatches in the bits of their keys.\n",
    "To find out the number of errors, the participants can perform a random sampling test.\n",
    "Alice randomly selects $\\delta$ bits of her secret key and tells Bob which bits she selected.\n",
    "Then Alice and Bob compare the values of these check bits.\n",
    "For large enough $\\delta$ the number of errors in the check bits will be close to the number of errors in the remaining bits."
   ]
  },
  {
   "cell_type": "markdown",
   "metadata": {},
   "source": [
    "### *Step five: CHSH correlation value test*"
   ]
  },
  {
   "cell_type": "markdown",
   "metadata": {},
   "source": [
    "Alice and Bob want to be sure that there was no interference in the communication session.\n",
    "To do that, they calculate the CHSH correlation value $(3)$ using the results obtained after the measurements of spin projections onto the $\\vec{a}_1/\\vec{b}_1$, $\\vec{a}_1/\\vec{b}_3$, $\\vec{a}_3/\\vec{b}_1$ and $\\vec{a}_3/\\vec{b}_3$ directions.\n",
    "Recall that it is equivalent to the measurement of the observables $X \\otimes W$, $X \\otimes V$, $Z \\otimes W$ and $Z \\otimes V$ respectively.\n",
    "\n",
    "According to the Born-von Neumann statistical postulate, the expectation value of the observable $E = \\sum_j e_j \\lvert e_j \\rangle \\langle e_j \\rvert$ in the state $\\lvert \\psi \\rangle$ is given by\n",
    "\n",
    "$$\\langle E \\rangle_\\psi =\n",
    "  \\mathrm{Tr}\\, \\lvert\\psi\\rangle \\langle\\psi\\rvert \\, E = \\\\\n",
    "  \\mathrm{Tr}\\, \\lvert\\psi\\rangle \\langle\\psi\\rvert \\sum_j e_j \\lvert e_j \\rangle \\langle e_j \\rvert  = \n",
    "  \\sum_j \\langle\\psi\\rvert(e_j \\lvert e_j \\rangle \\langle e_j \\rvert) \\lvert\\psi\\rangle = \n",
    "  \\sum_j e_j \\left|\\langle\\psi\\lvert e_j \\rangle \\right|^2 = \\\\\n",
    "  \\sum_j e_j \\mathrm{P}_\\psi (E \\models e_j),$$\n",
    "where $\\lvert e_j \\rangle$ is the eigenvector of $E$ with the corresponding eigenvalue $e_j$, and $\\mathrm{P}_\\psi (E \\models e_j)$ is the probability of obtainig the result $e_j$ after measuring the observable $E$ in the state $\\lvert \\psi \\rangle$.\n",
    "\n",
    "A similar expression can be written for the joint measurement of the observables $A$ and $B$:\n",
    "\n",
    "$$\\langle A \\otimes B \\rangle_\\psi =\n",
    "  \\sum_{j,k} a_j b_k \\mathrm{P}_\\psi (A \\models a_j, B \\models b_k) =\n",
    "  \\sum_{j,k} a_j b_k \\mathrm{P}_\\psi (a_j, b_k). \\qquad\\qquad (4)$$\n",
    " \n",
    "Note that if $A$ and $B$ are the spin projection observables, then the corresponding eigenvalues are $a_j, b_k = \\pm 1$.\n",
    "Thus, for the observables $A(\\vec{a}_i)$ and $B(\\vec{b}_j)$ and singlet state $\\lvert\\psi\\rangle_s$ we can rewrite $(4)$ as\n",
    "\n",
    "$$\\langle A(\\vec{a}_i) \\otimes B(\\vec{b}_j) \\rangle =\n",
    "  \\mathrm{P}(-1,-1) - \\mathrm{P}(1,-1) - \\mathrm{P}(-1,1) + \\mathrm{P}(1,1). \\qquad\\qquad (5)$$\n",
    "\n",
    "In our experiments, the probabilities on the right side can be calculated as follows:\n",
    "\n",
    "$$\\mathrm{P}(a_j, b_k) = \\frac{n_{a_j, b_k}(A \\otimes B)}{N(A \\otimes B)}, \\qquad\\qquad (6)$$\n",
    "\n",
    "where the numerator is the number of results $a_j, b_k$ obtained after measuring the observable $A \\otimes B$, and the denominator is the total number of measurements of the observable $A \\otimes B$.\n",
    "\n",
    "Since Alice and Bob revealed their strings $b$ and $b^{'}$, they know what measurements they performed and what results they have obtained.\n",
    "With this data, participants calculate the expectation values $(2)$ using $(5)$ and $(6)$."
   ]
  },
  {
   "cell_type": "code",
   "execution_count": 14,
   "metadata": {},
   "outputs": [],
   "source": [
    "# function that calculates CHSH correlation value\n",
    "def chsh_corr(result):\n",
    "    \n",
    "    # lists with the counts of measurement results\n",
    "    # each element represents the number of (-1,-1), (-1,1), (1,-1) and (1,1) results respectively\n",
    "    countA1B1 = [0, 0, 0, 0] # XW observable\n",
    "    countA1B3 = [0, 0, 0, 0] # XV observable\n",
    "    countA3B1 = [0, 0, 0, 0] # ZW observable\n",
    "    countA3B3 = [0, 0, 0, 0] # ZV observable\n",
    "\n",
    "    for i in range(numberOfSinglets):\n",
    "\n",
    "        res = list(result.get_counts(circuits[i]).keys())[0]\n",
    "\n",
    "        # if the spins of the qubits of the i-th singlet were projected onto the a_1/b_1 directions\n",
    "        if (aliceMeasurementChoices[i] == 1 and bobMeasurementChoices[i] == 1):\n",
    "            for j in range(4):\n",
    "                if abPatterns[j].search(res):\n",
    "                    countA1B1[j] += 1\n",
    "\n",
    "        if (aliceMeasurementChoices[i] == 1 and bobMeasurementChoices[i] == 3):\n",
    "            for j in range(4):\n",
    "                if abPatterns[j].search(res):\n",
    "                    countA1B3[j] += 1\n",
    "\n",
    "        if (aliceMeasurementChoices[i] == 3 and bobMeasurementChoices[i] == 1):\n",
    "            for j in range(4):\n",
    "                if abPatterns[j].search(res):\n",
    "                    countA3B1[j] += 1\n",
    "                    \n",
    "        # if the spins of the qubits of the i-th singlet were projected onto the a_3/b_3 directions\n",
    "        if (aliceMeasurementChoices[i] == 3 and bobMeasurementChoices[i] == 3):\n",
    "            for j in range(4):\n",
    "                if abPatterns[j].search(res):\n",
    "                    countA3B3[j] += 1\n",
    "                    \n",
    "    # number of the results obtained from the measurements in a particular basis\n",
    "    total11 = sum(countA1B1)\n",
    "    total13 = sum(countA1B3)\n",
    "    total31 = sum(countA3B1)\n",
    "    total33 = sum(countA3B3)      \n",
    "                    \n",
    "    # expectation values of XW, XV, ZW and ZV observables (2)\n",
    "    expect11 = (countA1B1[0] - countA1B1[1] - countA1B1[2] + countA1B1[3])/total11 # -1/sqrt(2)\n",
    "    expect13 = (countA1B3[0] - countA1B3[1] - countA1B3[2] + countA1B3[3])/total13 # 1/sqrt(2)\n",
    "    expect31 = (countA3B1[0] - countA3B1[1] - countA3B1[2] + countA3B1[3])/total31 # -1/sqrt(2)\n",
    "    expect33 = (countA3B3[0] - countA3B3[1] - countA3B3[2] + countA3B3[3])/total33 # -1/sqrt(2) \n",
    "    \n",
    "    corr = expect11 - expect13 + expect31 + expect33 # calculate the CHSC correlation value (3)\n",
    "    \n",
    "    return corr"
   ]
  },
  {
   "cell_type": "markdown",
   "metadata": {},
   "source": [
    "### *Output*"
   ]
  },
  {
   "cell_type": "markdown",
   "metadata": {},
   "source": [
    "Now let us print all the interesting values."
   ]
  },
  {
   "cell_type": "code",
   "execution_count": 15,
   "metadata": {},
   "outputs": [
    {
     "name": "stdout",
     "output_type": "stream",
     "text": [
      "CHSH correlation value: -2.954\n",
      "Length of the key: 120\n",
      "Number of mismatching bits: 0\n",
      "\n"
     ]
    }
   ],
   "source": [
    "corr = chsh_corr(result) # CHSH correlation value\n",
    "\n",
    "# CHSH inequality test\n",
    "print('CHSH correlation value: ' + str(round(corr, 3)))\n",
    "\n",
    "# Keys\n",
    "print('Length of the key: ' + str(keyLength))\n",
    "print('Number of mismatching bits: ' + str(abKeyMismatches) + '\\n')"
   ]
  },
  {
   "cell_type": "markdown",
   "metadata": {},
   "source": [
    "Finaly, Alice and Bob have the secret keys $k$ and $k^{'}$ (*aliceKey* and *bobKey*)!\n",
    "Now they can use the one-time pad technique to encrypt and decrypt messages.\n",
    "\n",
    "Since we simulate the E91 protocol without the presence of Eve, the CHSH correlation value should be close to $-2\\sqrt{2} \\approx -2.828$.\n",
    "In addition, there should be no mismatching bits in the keys of Alice and Bob.\n",
    "Note also that there are 9 possible combinations of measurements that can be performed by Alice and Bob, but only 2 of them give the results using which the secret keys can be created.\n",
    "Thus, the ratio of the length of the keys to the number of singlets $N$ should be close to $2/9$."
   ]
  },
  {
   "cell_type": "markdown",
   "metadata": {},
   "source": [
    "## *Simulation of eavesdropping*"
   ]
  },
  {
   "cell_type": "markdown",
   "metadata": {},
   "source": [
    "Suppose some third party wants to interfere in the communication session of Alice and Bob and obtain a secret key.\n",
    "The eavesdropper can use the *intercept-resend* attacks: Eve intercepts one or both of the entangled qubits prepared by Charlie, measures the spin projections of these qubits, prepares new ones depending on the results obtained ($\\lvert 01 \\rangle$ or $\\lvert 10 \\rangle$) and sends them to Alice and Bob.\n",
    "A schematic representation of this process is shown in the figure below.\n",
    "![](images/ABE_circuit.png)\n",
    "\n",
    "Here $E(\\vec{n}_A) = \\vec{n}_A \\cdot \\vec{\\sigma}$ and $E(\\vec{n}_B) = \\vec{n}_A \\cdot \\vec{\\sigma}$ are the observables of the of the spin projections of Alice's and Bob's qubits onto the directions $\\vec{n}_A$ and $\\vec{n}_B$.\n",
    "It would be wise for Eve to choose these directions to be $\\vec{n}_A = \\vec{a}_2,\\vec{a}_3$ and $\\vec{n}_B = \\vec{b}_1,\\vec{b}_2$ since the results obtained from other measurements can not be used to create a secret key.\n",
    "\n",
    "Let us prepare the circuits for Eve's measurements."
   ]
  },
  {
   "cell_type": "code",
   "execution_count": 16,
   "metadata": {},
   "outputs": [],
   "source": [
    "# measurement of the spin projection of Alice's qubit onto the a_2 direction (W basis)\n",
    "measureEA2 = Q_program.create_circuit('measureEA2', [qr], [cr])\n",
    "measureEA2.s(qr[0])\n",
    "measureEA2.h(qr[0])\n",
    "measureEA2.t(qr[0])\n",
    "measureEA2.h(qr[0])\n",
    "measureEA2.measure(qr[0],cr[2])\n",
    "\n",
    "# measurement of the spin projection of Allice's qubit onto the a_3 direction (standard Z basis)\n",
    "measureEA3 = Q_program.create_circuit('measureEA3', [qr], [cr])\n",
    "measureEA3.measure(qr[0],cr[2])\n",
    "\n",
    "# measurement of the spin projection of Bob's qubit onto the b_1 direction (W basis)\n",
    "measureEB1 = Q_program.create_circuit('measureEB1', [qr], [cr])\n",
    "measureEB1.s(qr[1])\n",
    "measureEB1.h(qr[1])\n",
    "measureEB1.t(qr[1])\n",
    "measureEB1.h(qr[1])\n",
    "measureEB1.measure(qr[1],cr[3])\n",
    "\n",
    "# measurement of the spin projection of Bob's qubit onto the b_2 direction (standard Z measurement)\n",
    "measureEB2 = Q_program.create_circuit('measureEB2', [qr], [cr])\n",
    "measureEB2.measure(qr[1],cr[3])\n",
    "\n",
    "# lists of measurement circuits\n",
    "eveMeasurements = [measureEA2, measureEA3, measureEB1, measureEB2]"
   ]
  },
  {
   "cell_type": "markdown",
   "metadata": {},
   "source": [
    "Like Alice and Bob, Eve must choose the directions onto which she will measure the spin projections of the qubits.\n",
    "In our simulation, the eavesdropper randomly chooses one of the observables $W \\otimes W$ or $Z \\otimes Z$ to measure."
   ]
  },
  {
   "cell_type": "code",
   "execution_count": 17,
   "metadata": {},
   "outputs": [],
   "source": [
    "# list of Eve's measurement choices\n",
    "# the first and the second elements of each row represent the measurement of Alice's and Bob's qubits by Eve respectively\n",
    "eveMeasurementChoices = []\n",
    "\n",
    "for j in range(numberOfSinglets):      \n",
    "    if random.uniform(0, 1) <= 0.5: # in 50% of cases perform the WW measurement\n",
    "        eveMeasurementChoices.append([0, 2])\n",
    "    else: # in 50% of cases perform the ZZ measurement\n",
    "        eveMeasurementChoices.append([1, 3])"
   ]
  },
  {
   "cell_type": "markdown",
   "metadata": {},
   "source": [
    "Like we did before, now we create the circuits with singlet states and detectors of Eve, Alice and Bob. "
   ]
  },
  {
   "cell_type": "code",
   "execution_count": 18,
   "metadata": {},
   "outputs": [],
   "source": [
    "circuits = [] # the list in which the created circuits will be stored\n",
    "\n",
    "for j in range(numberOfSinglets):\n",
    "    # create the name of the j-th circuit depending on Alice's, Bob's and Eve's choices of measurement\n",
    "    circuitName = str(j) + ':A' + str(aliceMeasurementChoices[j]) + '_B' + str(bobMeasurementChoices[j] + 2) + '_E' + str(eveMeasurementChoices[j][0]) + str(eveMeasurementChoices[j][1] - 1)\n",
    "    \n",
    "    # create the joint measurement circuit\n",
    "    # add Alice's and Bob's measurement circuits to the singlet state curcuit\n",
    "    Q_program.add_circuit(circuitName,\n",
    "                          singlet + # singlet state circuit\n",
    "                          eveMeasurements[eveMeasurementChoices[j][0]-1] + # Eve's measurement circuit of Alice's qubit\n",
    "                          eveMeasurements[eveMeasurementChoices[j][1]-1] + # Eve's measurement circuit of Bob's qubit\n",
    "                          aliceMeasurements[aliceMeasurementChoices[j]-1] + # measurement circuit of Alice\n",
    "                          bobMeasurements[bobMeasurementChoices[j]-1] # measurement circuit of Bob\n",
    "                         )\n",
    "    \n",
    "    # add the created circuit to the circuits list\n",
    "    circuits.append(circuitName)"
   ]
  },
  {
   "cell_type": "markdown",
   "metadata": {},
   "source": [
    "Now we execute all the prepared circuits on the simulator."
   ]
  },
  {
   "cell_type": "code",
   "execution_count": 19,
   "metadata": {},
   "outputs": [
    {
     "name": "stdout",
     "output_type": "stream",
     "text": [
      "COMPLETED\n"
     ]
    }
   ],
   "source": [
    "result = Q_program.execute(circuits, backend='local_qasm_simulator', shots=1, max_credits=5, wait=10, timeout=240)\n",
    "print(result)"
   ]
  },
  {
   "cell_type": "markdown",
   "metadata": {},
   "source": [
    "Let us look at the name of the first circuit and the output after it is executed."
   ]
  },
  {
   "cell_type": "code",
   "execution_count": 20,
   "metadata": {},
   "outputs": [
    {
     "name": "stdout",
     "output_type": "stream",
     "text": [
      "0:A1_B4_E12\t{'1010': 1}\n"
     ]
    }
   ],
   "source": [
    "print(str(circuits[0]) + '\\t' + str(result.get_counts(circuits[0])))"
   ]
  },
  {
   "cell_type": "markdown",
   "metadata": {},
   "source": [
    "We can see onto which directions Eve, Alice and Bob measured the spin projections and the results obtained.\n",
    "Recall that the bits *cr\\[2\\]* and *cr\\[3\\]* (two digits on the left) are used by Eve to store the results of her measurements.\n",
    "\n",
    "To extract Eve's results from the outputs, we need to compile new search patterns."
   ]
  },
  {
   "cell_type": "code",
   "execution_count": 21,
   "metadata": {},
   "outputs": [],
   "source": [
    "ePatterns = [\n",
    "    re.compile('00..$'), # search for the '00..' result (Eve obtained the results -1 and -1 for Alice's and Bob's qubits)\n",
    "    re.compile('01..$'), # search for the '01..' result (Eve obtained the results 1 and -1 for Alice's and Bob's qubits)\n",
    "    re.compile('10..$'),\n",
    "    re.compile('11..$')  \n",
    "]"
   ]
  },
  {
   "cell_type": "markdown",
   "metadata": {},
   "source": [
    "Now Eve, Alice and Bob record the results of their measurements."
   ]
  },
  {
   "cell_type": "code",
   "execution_count": 22,
   "metadata": {},
   "outputs": [],
   "source": [
    "aliceResults = [] # Alice's results (string a)\n",
    "bobResults = [] # Bob's results (string a')\n",
    "\n",
    "# list of Eve's measurement results\n",
    "# the elements in the 1-st column are the results obtaned from the measurements of Alice's qubits\n",
    "# the elements in the 2-nd column are the results obtaned from the measurements of Bob's qubits\n",
    "eveResults = [] \n",
    "\n",
    "# recording the measurement results\n",
    "for j in range(numberOfSinglets):\n",
    "    \n",
    "    res = list(result.get_counts(circuits[j]).keys())[0] # extract a key from the dict and transform it to str\n",
    "    \n",
    "    # Alice and Bob\n",
    "    if abPatterns[0].search(res): # check if the key is '..00' (if the measurement results are -1,-1)\n",
    "        aliceResults.append(-1) # Alice got the result -1 \n",
    "        bobResults.append(-1) # Bob got the result -1\n",
    "    if abPatterns[1].search(res):\n",
    "        aliceResults.append(1)\n",
    "        bobResults.append(-1)\n",
    "    if abPatterns[2].search(res): # check if the key is '..10' (if the measurement results are -1,1)\n",
    "        aliceResults.append(-1) # Alice got the result -1 \n",
    "        bobResults.append(1) # Bob got the result 1\n",
    "    if abPatterns[3].search(res): \n",
    "        aliceResults.append(1)\n",
    "        bobResults.append(1)\n",
    "\n",
    "    # Eve\n",
    "    if ePatterns[0].search(res): # check if the key is '00..'\n",
    "        eveResults.append([-1, -1]) # results of the measurement of Alice's and Bob's qubits are -1,-1\n",
    "    if ePatterns[1].search(res):\n",
    "        eveResults.append([1, -1])\n",
    "    if ePatterns[2].search(res):\n",
    "        eveResults.append([-1, 1])\n",
    "    if ePatterns[3].search(res):\n",
    "        eveResults.append([1, 1])"
   ]
  },
  {
   "cell_type": "markdown",
   "metadata": {},
   "source": [
    "As before, Alice, Bob and Eve create the secret keys using the results obtained after measuring the observables $W \\otimes W$ and $Z \\otimes Z$."
   ]
  },
  {
   "cell_type": "code",
   "execution_count": 23,
   "metadata": {},
   "outputs": [],
   "source": [
    "aliceKey = [] # Alice's key string a\n",
    "bobKey = [] # Bob's key string a'\n",
    "eveKeys = [] # Eve's keys; the 1-st column is the key of Alice, and the 2-nd is the key of Bob\n",
    "\n",
    "# comparing the strings with measurement choices (b and b')\n",
    "for j in range(numberOfSinglets):\n",
    "    # if Alice and Bob measured the spin projections onto the a_2/b_1 or a_3/b_2 directions\n",
    "    if (aliceMeasurementChoices[j] == 2 and bobMeasurementChoices[j] == 1) or (aliceMeasurementChoices[j] == 3 and bobMeasurementChoices[j] == 2):  \n",
    "        aliceKey.append(aliceResults[j]) # record the i-th result obtained by Alice as the bit of the secret key k\n",
    "        bobKey.append(-bobResults[j]) # record the multiplied by -1 i-th result obtained Bob as the bit of the secret key k'\n",
    "        eveKeys.append([eveResults[j][0], -eveResults[j][1]]) # record the i-th bits of the keys of Eve \n",
    "\n",
    "keyLength = len(aliceKey) # length of the secret skey"
   ]
  },
  {
   "cell_type": "markdown",
   "metadata": {},
   "source": [
    "To find out the number of mismatching bits in the keys of Alice, Bob and Eve we compare the lists *aliceKey*, *bobKey* and *eveKeys*."
   ]
  },
  {
   "cell_type": "code",
   "execution_count": 24,
   "metadata": {},
   "outputs": [],
   "source": [
    "abKeyMismatches = 0 # number of mismatching bits in the keys of Alice and Bob\n",
    "eaKeyMismatches = 0 # number of mismatching bits in the keys of Eve and Alice\n",
    "ebKeyMismatches = 0 # number of mismatching bits in the keys of Eve and Bob\n",
    "\n",
    "for j in range(keyLength):\n",
    "    if aliceKey[j] != bobKey[j]: \n",
    "        abKeyMismatches += 1\n",
    "    if eveKeys[j][0] != aliceKey[j]:\n",
    "        eaKeyMismatches += 1\n",
    "    if eveKeys[j][1] != bobKey[j]:\n",
    "        ebKeyMismatches += 1"
   ]
  },
  {
   "cell_type": "markdown",
   "metadata": {},
   "source": [
    "It is also good to know what percentage of the keys is known to Eve."
   ]
  },
  {
   "cell_type": "code",
   "execution_count": 25,
   "metadata": {},
   "outputs": [],
   "source": [
    "eaKnowledge = (keyLength - eaKeyMismatches)/keyLength # Eve's knowledge of Bob's key\n",
    "ebKnowledge = (keyLength - ebKeyMismatches)/keyLength # Eve's knowledge of Alice's key"
   ]
  },
  {
   "cell_type": "markdown",
   "metadata": {},
   "source": [
    "Using the *chsh_corr* function defined above we calculate the CSHS correlation value."
   ]
  },
  {
   "cell_type": "code",
   "execution_count": 26,
   "metadata": {},
   "outputs": [],
   "source": [
    "corr = chsh_corr(result)"
   ]
  },
  {
   "cell_type": "markdown",
   "metadata": {},
   "source": [
    "And now we print all the results."
   ]
  },
  {
   "cell_type": "code",
   "execution_count": 27,
   "metadata": {
    "scrolled": true
   },
   "outputs": [
    {
     "name": "stdout",
     "output_type": "stream",
     "text": [
      "CHSH correlation value: -1.457\n",
      "\n",
      "Length of the key: 120\n",
      "Number of mismatching bits: 12\n",
      "\n",
      "Eve's knowledge of Alice's key: 94.17 %\n",
      "Eve's knowledge of Bob's key: 94.17 %\n"
     ]
    }
   ],
   "source": [
    "# CHSH inequality test\n",
    "print('CHSH correlation value: ' + str(round(corr, 3)) + '\\n')\n",
    "\n",
    "# Keys\n",
    "print('Length of the key: ' + str(keyLength))\n",
    "print('Number of mismatching bits: ' + str(abKeyMismatches) + '\\n')\n",
    "\n",
    "print('Eve\\'s knowledge of Alice\\'s key: ' + str(round(eaKnowledge * 100, 2)) + ' %')\n",
    "print('Eve\\'s knowledge of Bob\\'s key: ' + str(round(ebKnowledge * 100, 2)) + ' %')"
   ]
  },
  {
   "cell_type": "markdown",
   "metadata": {},
   "source": [
    "Due to Eve's interference in the communication session, the CHSH correlation value is far away from $-2 \\sqrt{2}$.\n",
    "Alice and Bob see it and will not use the secret key to encrypt and decrypt any messages.\n",
    "It has been shown by Ekert that for any eavesdropping strategy and for any directions $\\vec{n}_A$, $\\vec{n}_B$ onto which Eve measures the spin projections of Alice's and Bob's qubits the following inequality can be written:\n",
    "\n",
    "$$ -\\sqrt{2} \\leqslant C \\leqslant \\sqrt{2},$$\n",
    "\n",
    "where $C$ is CHSH correlation value (3).\n",
    "The more Eve interferes in the communication session, the more she knows about the secret keys.\n",
    "But at the same time, the deviation of the CHSH correlation value from $-2\\sqrt{2}$ also increases.\n",
    "\n",
    "We can see that there are the mismatches in the keys of Alice and Bob.\n",
    "Where do they come from?\n",
    "After Eve measures the qubits of the singlet state $\\lvert \\psi_s \\rangle$, she randomly obtains the results $-1,1$ or $1,-1$ (see Eq. (1)).\n",
    "Depending on the results obtained, the eavesdropper prepares the state $\\lvert \\varphi_1 \\rangle = \\lvert 01 \\rangle$ or $\\lvert \\varphi_2 \\rangle = \\lvert 10 \\rangle$ (in our simulation it is automatically provided by a measurement in the $Z$ basis) and sends its qubits to Alice and Bob.\n",
    "When Alice and Bob measure the observable $W \\otimes W$, they obtain any combination of results with probability $\\mathrm{P}_{\\varphi_{n}}(a_i, b_j)$.\n",
    "To see this, one can compare the results of the execution of Quantum Scores of [$W_E \\otimes W_E \\vert W_A \\otimes W_B$](https://quantumexperience.ng.bluemix.net/share/code/1c4d96685cb20c2b99e43f9999b28313/execution/917dca7c81dfda7886af97eef85d5946) and [$W_E \\otimes W_E \\vert Z_A \\otimes Z_B$](https://quantumexperience.ng.bluemix.net/share/code/0d378f5f16990ab3e47546ae4b0c39d2/execution/e836b67e10e9d11d7828a67a834cf4fd) measurements (the subscripts denote who performs the measurement).\n",
    "\n",
    "In order to correct the mismatches in the keys of Alice and Bob classical error reconciliation algorithms are used.\n",
    "A very good description of the error correction methods can be found in [Quantum cryptography](https://arxiv.org/abs/quant-ph/0101098) by N. Gisin et al."
   ]
  },
  {
   "cell_type": "code",
   "execution_count": null,
   "metadata": {},
   "outputs": [],
   "source": []
  }
 ],
 "metadata": {
  "kernelspec": {
   "display_name": "Python 3",
   "language": "python",
   "name": "python3"
  },
  "language_info": {
   "codemirror_mode": {
    "name": "ipython",
    "version": 3
   },
   "file_extension": ".py",
   "mimetype": "text/x-python",
   "name": "python",
   "nbconvert_exporter": "python",
   "pygments_lexer": "ipython3",
   "version": "3.6.4"
  }
 },
 "nbformat": 4,
 "nbformat_minor": 2
}
